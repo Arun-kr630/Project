{
  "cells": [
    {
      "cell_type": "markdown",
      "source": [
        "# Downloading and spliting Dataset"
      ],
      "metadata": {
        "id": "H65Aginvyc2x"
      },
      "id": "H65Aginvyc2x"
    },
    {
      "cell_type": "code",
      "source": [
        "import kagglehub\n",
        "\n",
        "# Download latest version\n",
        "path = kagglehub.dataset_download(\"ricardosalvatorelli1/paddydoctor\")\n",
        "\n",
        "print(\"Path to dataset files:\", path)\n"
      ],
      "metadata": {
        "colab": {
          "base_uri": "https://localhost:8080/"
        },
        "id": "OQj0_2gMpkvA",
        "outputId": "f1e49282-90a0-4503-f028-a2b508490d6f"
      },
      "id": "OQj0_2gMpkvA",
      "execution_count": null,
      "outputs": [
        {
          "output_type": "stream",
          "name": "stdout",
          "text": [
            "Warning: Looks like you're using an outdated `kagglehub` version (installed: 0.3.5), please consider upgrading to the latest version (0.3.6).\n",
            "Downloading from https://www.kaggle.com/api/v1/datasets/download/ricardosalvatorelli1/paddydoctor?dataset_version_number=1...\n"
          ]
        },
        {
          "output_type": "stream",
          "name": "stderr",
          "text": [
            "100%|██████████| 1.02G/1.02G [00:10<00:00, 102MB/s]"
          ]
        },
        {
          "output_type": "stream",
          "name": "stdout",
          "text": [
            "Extracting files...\n"
          ]
        },
        {
          "output_type": "stream",
          "name": "stderr",
          "text": [
            "\n"
          ]
        },
        {
          "output_type": "stream",
          "name": "stdout",
          "text": [
            "Path to dataset files: /root/.cache/kagglehub/datasets/ricardosalvatorelli1/paddydoctor/versions/1\n"
          ]
        }
      ]
    },
    {
      "cell_type": "code",
      "source": [
        "import os\n",
        "import shutil\n",
        "from sklearn.model_selection import train_test_split\n",
        "\n",
        "# Paths\n",
        "dataset_dir = '/root/.cache/kagglehub/datasets/ricardosalvatorelli1/paddydoctor/versions/1/train_images'\n",
        "output_dir = 'split_dataset'\n",
        "train_dir = os.path.join(output_dir, 'train')\n",
        "val_dir = os.path.join(output_dir, 'val')\n",
        "test_dir = os.path.join(output_dir, 'test')\n",
        "\n",
        "# Create directories for split dataset\n",
        "def create_dir_structure():\n",
        "    for split_dir in [train_dir, val_dir, test_dir]:\n",
        "        os.makedirs(split_dir, exist_ok=True)\n",
        "\n",
        "# Split dataset\n",
        "def split_dataset():\n",
        "    create_dir_structure()\n",
        "\n",
        "    for class_name in os.listdir(dataset_dir):\n",
        "        class_path = os.path.join(dataset_dir, class_name)\n",
        "\n",
        "        if not os.path.isdir(class_path):\n",
        "            continue\n",
        "\n",
        "        # Get all image file paths in the current class folder\n",
        "        images = [os.path.join(class_path, img) for img in os.listdir(class_path) if os.path.isfile(os.path.join(class_path, img))]\n",
        "\n",
        "        # Split data into train (70%), temp (30%)\n",
        "        train_images, temp_images = train_test_split(images, test_size=0.3, random_state=42)\n",
        "\n",
        "        # Further split temp into validation (10%) and test (20%)\n",
        "        val_images, test_images = train_test_split(temp_images, test_size=2/3, random_state=42)\n",
        "\n",
        "        # Move images to respective directories\n",
        "        for image in train_images:\n",
        "            dest_dir = os.path.join(train_dir, class_name)\n",
        "            os.makedirs(dest_dir, exist_ok=True)\n",
        "            shutil.move(image, dest_dir)\n",
        "\n",
        "        for image in val_images:\n",
        "            dest_dir = os.path.join(val_dir, class_name)\n",
        "            os.makedirs(dest_dir, exist_ok=True)\n",
        "            shutil.move(image, dest_dir)\n",
        "\n",
        "        for image in test_images:\n",
        "            dest_dir = os.path.join(test_dir, class_name)\n",
        "            os.makedirs(dest_dir, exist_ok=True)\n",
        "            shutil.move(image, dest_dir)\n",
        "\n",
        "# Run the script\n",
        "if __name__ == '__main__':\n",
        "    split_dataset()\n",
        "    print(\"Dataset successfully split into train, validation, and test sets!\")\n"
      ],
      "metadata": {
        "colab": {
          "base_uri": "https://localhost:8080/"
        },
        "id": "5w_JgIr8poMQ",
        "outputId": "132f5734-c128-4c63-9e1d-e10d46b9ba47"
      },
      "id": "5w_JgIr8poMQ",
      "execution_count": null,
      "outputs": [
        {
          "output_type": "stream",
          "name": "stdout",
          "text": [
            "Dataset successfully split into train, validation, and test sets!\n"
          ]
        }
      ]
    },
    {
      "cell_type": "code",
      "execution_count": null,
      "id": "812a43e1",
      "metadata": {
        "execution": {
          "iopub.execute_input": "2022-07-18T06:16:20.385393Z",
          "iopub.status.busy": "2022-07-18T06:16:20.384532Z",
          "iopub.status.idle": "2022-07-18T06:16:29.865697Z",
          "shell.execute_reply": "2022-07-18T06:16:29.864102Z"
        },
        "papermill": {
          "duration": 9.489942,
          "end_time": "2022-07-18T06:16:29.868259",
          "exception": false,
          "start_time": "2022-07-18T06:16:20.378317",
          "status": "completed"
        },
        "tags": [],
        "colab": {
          "base_uri": "https://localhost:8080/"
        },
        "id": "812a43e1",
        "outputId": "2938fbd2-9ddf-4ee8-90be-96857bc9bb53"
      },
      "outputs": [
        {
          "output_type": "stream",
          "name": "stdout",
          "text": [
            "train images\n",
            "1115 \t hispa\n",
            "1234 \t normal\n",
            "235 \t bacterial_panicle_blight\n",
            "335 \t bacterial_leaf_blight\n",
            "1009 \t dead_heart\n",
            "761 \t tungro\n",
            "1216 \t blast\n",
            "266 \t bacterial_leaf_streak\n",
            "434 \t downy_mildew\n",
            "675 \t brown_spot\n",
            "test images\n",
            "320 \t hispa\n",
            "354 \t normal\n",
            "68 \t bacterial_panicle_blight\n",
            "96 \t bacterial_leaf_blight\n",
            "289 \t dead_heart\n",
            "218 \t tungro\n",
            "348 \t blast\n",
            "76 \t bacterial_leaf_streak\n",
            "124 \t downy_mildew\n",
            "194 \t brown_spot\n",
            "val images\n",
            "159 \t hispa\n",
            "176 \t normal\n",
            "34 \t bacterial_panicle_blight\n",
            "48 \t bacterial_leaf_blight\n",
            "144 \t dead_heart\n",
            "109 \t tungro\n",
            "174 \t blast\n",
            "38 \t bacterial_leaf_streak\n",
            "62 \t downy_mildew\n",
            "96 \t brown_spot\n"
          ]
        }
      ],
      "source": [
        "train_path  = \"split_dataset/train/\"\n",
        "test_path  = \"split_dataset/test/\"\n",
        "val_path  = \"split_dataset/val/\"\n",
        "import glob\n",
        "from pathlib import Path\n",
        "\n",
        "\n",
        "print('train images')\n",
        "for filepath in glob.glob(train_path + '/*/'):\n",
        "    files = glob.glob(filepath + '*')\n",
        "    print(f\"{len(files)} \\t {Path(filepath).name}\")\n",
        "\n",
        "print('test images')\n",
        "for filepath in glob.glob(test_path + '/*/'):\n",
        "    files = glob.glob(filepath + '*')\n",
        "    print(f\"{len(files)} \\t {Path(filepath).name}\")\n",
        "\n",
        "print('val images')\n",
        "for filepath in glob.glob(val_path + '/*/'):\n",
        "    files = glob.glob(filepath + '*')\n",
        "    print(f\"{len(files)} \\t {Path(filepath).name}\")\n"
      ]
    },
    {
      "cell_type": "markdown",
      "source": [
        "# Model Initialization and Training"
      ],
      "metadata": {
        "id": "FBWa1xWkym05"
      },
      "id": "FBWa1xWkym05"
    },
    {
      "cell_type": "code",
      "execution_count": null,
      "id": "6858d223",
      "metadata": {
        "execution": {
          "iopub.execute_input": "2022-07-18T06:16:29.879437Z",
          "iopub.status.busy": "2022-07-18T06:16:29.878799Z",
          "iopub.status.idle": "2022-07-18T06:16:37.268917Z",
          "shell.execute_reply": "2022-07-18T06:16:37.267856Z"
        },
        "papermill": {
          "duration": 7.397828,
          "end_time": "2022-07-18T06:16:37.271004",
          "exception": false,
          "start_time": "2022-07-18T06:16:29.873176",
          "status": "completed"
        },
        "tags": [],
        "colab": {
          "base_uri": "https://localhost:8080/"
        },
        "id": "6858d223",
        "outputId": "250fbcb2-9348-44ce-db74-f538c98c8d6a"
      },
      "outputs": [
        {
          "output_type": "stream",
          "name": "stdout",
          "text": [
            "10\n"
          ]
        }
      ],
      "source": [
        "import numpy as np\n",
        "import pandas as pd\n",
        "import pickle\n",
        "import cv2\n",
        "import os\n",
        "\n",
        "from os import listdir\n",
        "from sklearn.preprocessing import LabelBinarizer\n",
        "from tensorflow.keras.models import Sequential\n",
        "\n",
        "from tensorflow.keras.layers import BatchNormalization\n",
        "from tensorflow.keras.layers import Conv2D\n",
        "from tensorflow.keras.layers import MaxPooling2D\n",
        "from tensorflow.keras.layers import Activation, Flatten, Dropout, Dense\n",
        "from keras import backend as K\n",
        "from tensorflow.keras.preprocessing.image import ImageDataGenerator\n",
        "from tensorflow.keras.optimizers import Adam\n",
        "from tensorflow.keras.utils import plot_model\n",
        "\n",
        "from keras.preprocessing import image\n",
        "from keras.preprocessing.image import img_to_array\n",
        "from sklearn.preprocessing import MultiLabelBinarizer\n",
        "from sklearn.model_selection import train_test_split\n",
        "import matplotlib.pyplot as plt\n",
        "\n",
        "import keras\n",
        "keras.__version__\n",
        "from psutil import virtual_memory\n",
        "\n",
        "SEED = 123\n",
        "EPOCHS = 50\n",
        "INIT_LR = 1e-3\n",
        "BS = 32\n",
        "default_image_size = tuple((256, 256))\n",
        "image_size = 0\n",
        "width = 256\n",
        "height = 256\n",
        "depth = 3\n",
        "\n",
        "n_classes = len(glob.glob(train_path + '/*/'))\n",
        "print(n_classes)"
      ]
    },
    {
      "cell_type": "code",
      "execution_count": null,
      "id": "02c8b426",
      "metadata": {
        "execution": {
          "iopub.execute_input": "2022-07-18T06:16:37.281575Z",
          "iopub.status.busy": "2022-07-18T06:16:37.281052Z",
          "iopub.status.idle": "2022-07-18T06:16:42.072426Z",
          "shell.execute_reply": "2022-07-18T06:16:42.066748Z"
        },
        "papermill": {
          "duration": 4.805817,
          "end_time": "2022-07-18T06:16:42.081441",
          "exception": false,
          "start_time": "2022-07-18T06:16:37.275624",
          "status": "completed"
        },
        "tags": [],
        "colab": {
          "base_uri": "https://localhost:8080/"
        },
        "id": "02c8b426",
        "outputId": "6b93d2f9-a6cb-4e02-a0ed-5c0b2ef35002"
      },
      "outputs": [
        {
          "output_type": "stream",
          "name": "stdout",
          "text": [
            "channels_last\n"
          ]
        },
        {
          "output_type": "stream",
          "name": "stderr",
          "text": [
            "/usr/local/lib/python3.10/dist-packages/keras/src/layers/convolutional/base_conv.py:107: UserWarning: Do not pass an `input_shape`/`input_dim` argument to a layer. When using Sequential models, prefer using an `Input(shape)` object as the first layer in the model instead.\n",
            "  super().__init__(activity_regularizer=activity_regularizer, **kwargs)\n",
            "/usr/local/lib/python3.10/dist-packages/keras/src/optimizers/base_optimizer.py:33: UserWarning: Argument `decay` is no longer supported and will be ignored.\n",
            "  warnings.warn(\n"
          ]
        }
      ],
      "source": [
        "def get_model():\n",
        "    model = Sequential()\n",
        "    inputShape = (height, width, depth)\n",
        "    chanDim = -1\n",
        "    print(K.image_data_format())\n",
        "    if K.image_data_format() == \"channels_first\":\n",
        "        inputShape = (depth, height, width)\n",
        "        chanDim = 1\n",
        "    model.add(Conv2D(32, (3, 3), padding=\"same\",input_shape=inputShape))\n",
        "    model.add(Activation(\"relu\"))\n",
        "    model.add(BatchNormalization(axis=chanDim))\n",
        "    model.add(MaxPooling2D(pool_size=(3, 3)))\n",
        "    model.add(Dropout(0.25))\n",
        "    model.add(Conv2D(64, (3, 3), padding=\"same\"))\n",
        "    model.add(Activation(\"relu\"))\n",
        "    model.add(BatchNormalization(axis=chanDim))\n",
        "    model.add(Conv2D(64, (3, 3), padding=\"same\"))\n",
        "    model.add(Activation(\"relu\"))\n",
        "    model.add(BatchNormalization(axis=chanDim))\n",
        "    model.add(MaxPooling2D(pool_size=(2, 2)))\n",
        "    model.add(Dropout(0.25))\n",
        "    model.add(Conv2D(128, (3, 3), padding=\"same\"))\n",
        "    model.add(Activation(\"relu\"))\n",
        "    model.add(BatchNormalization(axis=chanDim))\n",
        "    model.add(Conv2D(128, (3, 3), padding=\"same\"))\n",
        "    model.add(Activation(\"relu\"))\n",
        "    model.add(BatchNormalization(axis=chanDim))\n",
        "    model.add(MaxPooling2D(pool_size=(2, 2)))\n",
        "    model.add(Dropout(0.25))\n",
        "    model.add(Flatten())\n",
        "    model.add(Dense(1024))\n",
        "    model.add(Activation(\"relu\"))\n",
        "    model.add(BatchNormalization())\n",
        "    model.add(Dropout(0.5))\n",
        "    model.add(Dense(n_classes))\n",
        "    model.add(Activation(\"softmax\"))\n",
        "\n",
        "    opt = Adam(learning_rate=INIT_LR, decay=INIT_LR / EPOCHS)\n",
        "    # distribution\n",
        "    model.compile(loss=\"binary_crossentropy\", optimizer=opt,metrics=[\"accuracy\"])\n",
        "    return model\n",
        "model = get_model()\n",
        "\n",
        "# plot_model(model, '/kaggle/working/model.png', show_shapes=True)"
      ]
    },
    {
      "cell_type": "markdown",
      "source": [
        "DataLoader"
      ],
      "metadata": {
        "id": "CM7k3p1Sy5G8"
      },
      "id": "CM7k3p1Sy5G8"
    },
    {
      "cell_type": "code",
      "execution_count": null,
      "id": "de17548d",
      "metadata": {
        "execution": {
          "iopub.execute_input": "2022-07-18T06:16:42.110840Z",
          "iopub.status.busy": "2022-07-18T06:16:42.110470Z",
          "iopub.status.idle": "2022-07-18T06:16:44.200159Z",
          "shell.execute_reply": "2022-07-18T06:16:44.198091Z"
        },
        "papermill": {
          "duration": 2.107289,
          "end_time": "2022-07-18T06:16:44.202773",
          "exception": false,
          "start_time": "2022-07-18T06:16:42.095484",
          "status": "completed"
        },
        "tags": [],
        "colab": {
          "base_uri": "https://localhost:8080/"
        },
        "id": "de17548d",
        "outputId": "60420565-9e4a-4b4d-8b98-308500171bb9"
      },
      "outputs": [
        {
          "output_type": "stream",
          "name": "stdout",
          "text": [
            "Found 5827 images belonging to 10 classes.\n",
            "Found 202 images belonging to 10 classes.\n",
            "Found 2087 images belonging to 10 classes.\n",
            "{'bacterial_leaf_blight': 0, 'bacterial_leaf_streak': 1, 'bacterial_panicle_blight': 2, 'blast': 3, 'brown_spot': 4, 'dead_heart': 5, 'downy_mildew': 6, 'hispa': 7, 'normal': 8, 'tungro': 9}\n",
            "2087\n"
          ]
        }
      ],
      "source": [
        "image_datagen = ImageDataGenerator(featurewise_center=False,\n",
        "                 samplewise_center=False,\n",
        "                 featurewise_std_normalization=False,\n",
        "                 samplewise_std_normalization=False,\n",
        "                 zca_whitening=False,\n",
        "                 rotation_range=5,\n",
        "                 shear_range=0.2,\n",
        "                 zoom_range=0.2,\n",
        "                 width_shift_range=0.05,\n",
        "                 height_shift_range=0.05,\n",
        "                 channel_shift_range=0.,\n",
        "                 fill_mode='nearest',\n",
        "                 horizontal_flip=True,\n",
        "                 vertical_flip=False,\n",
        "                 rescale=1./255,\n",
        "                                   validation_split=0.2)\n",
        "\n",
        "train_generator = image_datagen.flow_from_directory(\n",
        "    directory = train_path,\n",
        "    subset='training',\n",
        "    target_size=(256, 256),\n",
        "    color_mode=\"rgb\",\n",
        "    batch_size=32,\n",
        "    class_mode=\"categorical\",\n",
        "    shuffle=True,\n",
        "    seed=SEED)\n",
        "\n",
        "valid_generator = image_datagen.flow_from_directory(\n",
        "    directory=val_path,\n",
        "    subset='validation',\n",
        "    target_size=(256, 256),\n",
        "    color_mode=\"rgb\",\n",
        "    batch_size=32,\n",
        "    class_mode=\"categorical\",\n",
        "    shuffle=True,\n",
        "    seed=SEED)\n",
        "\n",
        "test_generator = ImageDataGenerator(rescale=1./255).flow_from_directory(\n",
        "    directory=test_path,\n",
        "    target_size=(256, 256),\n",
        "    color_mode=\"rgb\",\n",
        "    batch_size=1,\n",
        "    class_mode=\"categorical\",\n",
        "    shuffle=False,\n",
        "    seed=SEED)\n",
        "\n",
        "print(train_generator.class_indices)\n",
        "print(test_generator.samples)"
      ]
    },
    {
      "cell_type": "code",
      "execution_count": null,
      "id": "087065f2",
      "metadata": {
        "execution": {
          "iopub.execute_input": "2022-07-18T06:16:44.222902Z",
          "iopub.status.busy": "2022-07-18T06:16:44.222348Z",
          "iopub.status.idle": "2022-07-18T13:17:20.421691Z",
          "shell.execute_reply": "2022-07-18T13:17:20.420703Z"
        },
        "papermill": {
          "duration": 25238.266295,
          "end_time": "2022-07-18T13:17:22.478888",
          "exception": false,
          "start_time": "2022-07-18T06:16:44.212593",
          "status": "completed"
        },
        "tags": [],
        "colab": {
          "base_uri": "https://localhost:8080/"
        },
        "id": "087065f2",
        "outputId": "c422bba1-ea2e-4dd9-f1a6-fb245338d07e"
      },
      "outputs": [
        {
          "output_type": "stream",
          "name": "stdout",
          "text": [
            "Epoch 1/50\n"
          ]
        },
        {
          "output_type": "stream",
          "name": "stderr",
          "text": [
            "/usr/local/lib/python3.10/dist-packages/keras/src/trainers/data_adapters/py_dataset_adapter.py:122: UserWarning: Your `PyDataset` class should call `super().__init__(**kwargs)` in its constructor. `**kwargs` can include `workers`, `use_multiprocessing`, `max_queue_size`. Do not pass these arguments to `fit()`, as they will be ignored.\n",
            "  self._warn_if_super_not_called()\n"
          ]
        },
        {
          "output_type": "stream",
          "name": "stdout",
          "text": [
            "\u001b[1m182/182\u001b[0m \u001b[32m━━━━━━━━━━━━━━━━━━━━\u001b[0m\u001b[37m\u001b[0m \u001b[1m125s\u001b[0m 586ms/step - accuracy: 0.2310 - loss: 0.6124 - val_accuracy: 0.1719 - val_loss: 7.5505\n",
            "Epoch 2/50\n",
            "\u001b[1m  1/182\u001b[0m \u001b[37m━━━━━━━━━━━━━━━━━━━━\u001b[0m \u001b[1m20s\u001b[0m 112ms/step - accuracy: 0.3750 - loss: 0.2651"
          ]
        },
        {
          "output_type": "stream",
          "name": "stderr",
          "text": [
            "/usr/lib/python3.10/contextlib.py:153: UserWarning: Your input ran out of data; interrupting training. Make sure that your dataset or generator can generate at least `steps_per_epoch * epochs` batches. You may need to use the `.repeat()` function when building your dataset.\n",
            "  self.gen.throw(typ, value, traceback)\n"
          ]
        },
        {
          "output_type": "stream",
          "name": "stdout",
          "text": [
            "\b\b\b\b\b\b\b\b\b\b\b\b\b\b\b\b\b\b\b\b\b\b\b\b\b\b\b\b\b\b\b\b\b\b\b\b\b\b\b\b\b\b\b\b\b\b\b\b\b\b\b\b\b\b\b\b\b\b\b\b\b\b\b\b\b\b\b\b\b\b\b\b\b\b\b\b\b\r\u001b[1m182/182\u001b[0m \u001b[32m━━━━━━━━━━━━━━━━━━━━\u001b[0m\u001b[37m\u001b[0m \u001b[1m6s\u001b[0m 33ms/step - accuracy: 0.3750 - loss: 0.2651 - val_accuracy: 0.0000e+00 - val_loss: 9.7046\n",
            "Epoch 3/50\n",
            "\u001b[1m182/182\u001b[0m \u001b[32m━━━━━━━━━━━━━━━━━━━━\u001b[0m\u001b[37m\u001b[0m \u001b[1m114s\u001b[0m 535ms/step - accuracy: 0.3829 - loss: 0.3035 - val_accuracy: 0.2031 - val_loss: 0.8495\n",
            "Epoch 4/50\n",
            "\u001b[1m182/182\u001b[0m \u001b[32m━━━━━━━━━━━━━━━━━━━━\u001b[0m\u001b[37m\u001b[0m \u001b[1m0s\u001b[0m 425us/step - accuracy: 0.3750 - loss: 0.2943 - val_accuracy: 0.1000 - val_loss: 1.0803\n",
            "Epoch 5/50\n",
            "\u001b[1m182/182\u001b[0m \u001b[32m━━━━━━━━━━━━━━━━━━━━\u001b[0m\u001b[37m\u001b[0m \u001b[1m98s\u001b[0m 522ms/step - accuracy: 0.4755 - loss: 0.2700 - val_accuracy: 0.4375 - val_loss: 0.3188\n",
            "Epoch 6/50\n",
            "\u001b[1m182/182\u001b[0m \u001b[32m━━━━━━━━━━━━━━━━━━━━\u001b[0m\u001b[37m\u001b[0m \u001b[1m0s\u001b[0m 420us/step - accuracy: 0.5625 - loss: 0.2710 - val_accuracy: 0.3000 - val_loss: 0.3720\n",
            "Epoch 7/50\n",
            "\u001b[1m182/182\u001b[0m \u001b[32m━━━━━━━━━━━━━━━━━━━━\u001b[0m\u001b[37m\u001b[0m \u001b[1m142s\u001b[0m 524ms/step - accuracy: 0.5422 - loss: 0.2353 - val_accuracy: 0.5833 - val_loss: 0.2211\n",
            "Epoch 8/50\n",
            "\u001b[1m182/182\u001b[0m \u001b[32m━━━━━━━━━━━━━━━━━━━━\u001b[0m\u001b[37m\u001b[0m \u001b[1m0s\u001b[0m 1ms/step - accuracy: 0.4688 - loss: 0.2728 - val_accuracy: 0.5000 - val_loss: 0.2216\n",
            "Epoch 9/50\n",
            "\u001b[1m182/182\u001b[0m \u001b[32m━━━━━━━━━━━━━━━━━━━━\u001b[0m\u001b[37m\u001b[0m \u001b[1m143s\u001b[0m 524ms/step - accuracy: 0.5901 - loss: 0.2142 - val_accuracy: 0.5000 - val_loss: 0.2896\n",
            "Epoch 10/50\n",
            "\u001b[1m182/182\u001b[0m \u001b[32m━━━━━━━━━━━━━━━━━━━━\u001b[0m\u001b[37m\u001b[0m \u001b[1m2s\u001b[0m 12ms/step - accuracy: 0.7812 - loss: 0.1626 - val_accuracy: 0.5000 - val_loss: 0.2691\n",
            "Epoch 11/50\n",
            "\u001b[1m182/182\u001b[0m \u001b[32m━━━━━━━━━━━━━━━━━━━━\u001b[0m\u001b[37m\u001b[0m \u001b[1m140s\u001b[0m 524ms/step - accuracy: 0.6243 - loss: 0.2022 - val_accuracy: 0.5677 - val_loss: 0.2108\n",
            "Epoch 12/50\n",
            "\u001b[1m182/182\u001b[0m \u001b[32m━━━━━━━━━━━━━━━━━━━━\u001b[0m\u001b[37m\u001b[0m \u001b[1m0s\u001b[0m 498us/step - accuracy: 0.6250 - loss: 0.1655 - val_accuracy: 0.7000 - val_loss: 0.1545\n",
            "Epoch 13/50\n",
            "\u001b[1m182/182\u001b[0m \u001b[32m━━━━━━━━━━━━━━━━━━━━\u001b[0m\u001b[37m\u001b[0m \u001b[1m141s\u001b[0m 522ms/step - accuracy: 0.6916 - loss: 0.1662 - val_accuracy: 0.6458 - val_loss: 0.1891\n",
            "Epoch 14/50\n",
            "\u001b[1m182/182\u001b[0m \u001b[32m━━━━━━━━━━━━━━━━━━━━\u001b[0m\u001b[37m\u001b[0m \u001b[1m0s\u001b[0m 420us/step - accuracy: 0.8125 - loss: 0.1371 - val_accuracy: 0.5000 - val_loss: 0.2015\n",
            "Epoch 15/50\n",
            "\u001b[1m182/182\u001b[0m \u001b[32m━━━━━━━━━━━━━━━━━━━━\u001b[0m\u001b[37m\u001b[0m \u001b[1m141s\u001b[0m 522ms/step - accuracy: 0.7264 - loss: 0.1527 - val_accuracy: 0.3802 - val_loss: 0.3296\n",
            "Epoch 16/50\n",
            "\u001b[1m182/182\u001b[0m \u001b[32m━━━━━━━━━━━━━━━━━━━━\u001b[0m\u001b[37m\u001b[0m \u001b[1m0s\u001b[0m 517us/step - accuracy: 0.7812 - loss: 0.1092 - val_accuracy: 0.3000 - val_loss: 0.4079\n",
            "Epoch 17/50\n",
            "\u001b[1m182/182\u001b[0m \u001b[32m━━━━━━━━━━━━━━━━━━━━\u001b[0m\u001b[37m\u001b[0m \u001b[1m99s\u001b[0m 523ms/step - accuracy: 0.7452 - loss: 0.1434 - val_accuracy: 0.7083 - val_loss: 0.1649\n",
            "Epoch 18/50\n",
            "\u001b[1m182/182\u001b[0m \u001b[32m━━━━━━━━━━━━━━━━━━━━\u001b[0m\u001b[37m\u001b[0m \u001b[1m0s\u001b[0m 375us/step - accuracy: 0.5938 - loss: 0.1951 - val_accuracy: 0.9000 - val_loss: 0.0939\n",
            "Epoch 19/50\n",
            "\u001b[1m182/182\u001b[0m \u001b[32m━━━━━━━━━━━━━━━━━━━━\u001b[0m\u001b[37m\u001b[0m \u001b[1m141s\u001b[0m 524ms/step - accuracy: 0.7572 - loss: 0.1386 - val_accuracy: 0.5990 - val_loss: 0.2061\n",
            "Epoch 20/50\n",
            "\u001b[1m182/182\u001b[0m \u001b[32m━━━━━━━━━━━━━━━━━━━━\u001b[0m\u001b[37m\u001b[0m \u001b[1m0s\u001b[0m 297us/step - accuracy: 0.7188 - loss: 0.1524 - val_accuracy: 0.6000 - val_loss: 0.1726\n",
            "Epoch 21/50\n",
            "\u001b[1m182/182\u001b[0m \u001b[32m━━━━━━━━━━━━━━━━━━━━\u001b[0m\u001b[37m\u001b[0m \u001b[1m142s\u001b[0m 527ms/step - accuracy: 0.7694 - loss: 0.1315 - val_accuracy: 0.5000 - val_loss: 0.3199\n",
            "Epoch 22/50\n",
            "\u001b[1m182/182\u001b[0m \u001b[32m━━━━━━━━━━━━━━━━━━━━\u001b[0m\u001b[37m\u001b[0m \u001b[1m2s\u001b[0m 12ms/step - accuracy: 0.5000 - loss: 0.1905 - val_accuracy: 0.4000 - val_loss: 0.2349\n",
            "Epoch 23/50\n",
            "\u001b[1m182/182\u001b[0m \u001b[32m━━━━━━━━━━━━━━━━━━━━\u001b[0m\u001b[37m\u001b[0m \u001b[1m139s\u001b[0m 526ms/step - accuracy: 0.7894 - loss: 0.1221 - val_accuracy: 0.7396 - val_loss: 0.1275\n",
            "Epoch 24/50\n",
            "\u001b[1m182/182\u001b[0m \u001b[32m━━━━━━━━━━━━━━━━━━━━\u001b[0m\u001b[37m\u001b[0m \u001b[1m0s\u001b[0m 952us/step - accuracy: 0.7500 - loss: 0.1325 - val_accuracy: 0.8000 - val_loss: 0.0818\n",
            "Epoch 25/50\n",
            "\u001b[1m182/182\u001b[0m \u001b[32m━━━━━━━━━━━━━━━━━━━━\u001b[0m\u001b[37m\u001b[0m \u001b[1m142s\u001b[0m 524ms/step - accuracy: 0.8054 - loss: 0.1147 - val_accuracy: 0.4583 - val_loss: 0.5737\n",
            "Epoch 26/50\n",
            "\u001b[1m182/182\u001b[0m \u001b[32m━━━━━━━━━━━━━━━━━━━━\u001b[0m\u001b[37m\u001b[0m \u001b[1m2s\u001b[0m 9ms/step - accuracy: 0.6875 - loss: 0.1569 - val_accuracy: 0.5000 - val_loss: 0.3199\n",
            "Epoch 27/50\n",
            "\u001b[1m182/182\u001b[0m \u001b[32m━━━━━━━━━━━━━━━━━━━━\u001b[0m\u001b[37m\u001b[0m \u001b[1m99s\u001b[0m 528ms/step - accuracy: 0.7897 - loss: 0.1246 - val_accuracy: 0.5990 - val_loss: 0.2014\n",
            "Epoch 28/50\n",
            "\u001b[1m182/182\u001b[0m \u001b[32m━━━━━━━━━━━━━━━━━━━━\u001b[0m\u001b[37m\u001b[0m \u001b[1m0s\u001b[0m 1ms/step - accuracy: 0.8125 - loss: 0.1053 - val_accuracy: 0.6000 - val_loss: 0.2307\n",
            "Epoch 29/50\n",
            "\u001b[1m182/182\u001b[0m \u001b[32m━━━━━━━━━━━━━━━━━━━━\u001b[0m\u001b[37m\u001b[0m \u001b[1m99s\u001b[0m 523ms/step - accuracy: 0.7834 - loss: 0.1266 - val_accuracy: 0.3125 - val_loss: 0.4328\n",
            "Epoch 30/50\n",
            "\u001b[1m182/182\u001b[0m \u001b[32m━━━━━━━━━━━━━━━━━━━━\u001b[0m\u001b[37m\u001b[0m \u001b[1m2s\u001b[0m 13ms/step - accuracy: 0.7812 - loss: 0.1646 - val_accuracy: 0.1000 - val_loss: 0.6377\n",
            "Epoch 31/50\n",
            "\u001b[1m182/182\u001b[0m \u001b[32m━━━━━━━━━━━━━━━━━━━━\u001b[0m\u001b[37m\u001b[0m \u001b[1m99s\u001b[0m 523ms/step - accuracy: 0.7130 - loss: 0.1666 - val_accuracy: 0.6406 - val_loss: 0.2007\n",
            "Epoch 32/50\n",
            "\u001b[1m182/182\u001b[0m \u001b[32m━━━━━━━━━━━━━━━━━━━━\u001b[0m\u001b[37m\u001b[0m \u001b[1m0s\u001b[0m 371us/step - accuracy: 0.7812 - loss: 0.1351 - val_accuracy: 0.7000 - val_loss: 0.1488\n",
            "Epoch 33/50\n",
            "\u001b[1m182/182\u001b[0m \u001b[32m━━━━━━━━━━━━━━━━━━━━\u001b[0m\u001b[37m\u001b[0m \u001b[1m143s\u001b[0m 527ms/step - accuracy: 0.7310 - loss: 0.1499 - val_accuracy: 0.6615 - val_loss: 0.1782\n",
            "Epoch 34/50\n",
            "\u001b[1m182/182\u001b[0m \u001b[32m━━━━━━━━━━━━━━━━━━━━\u001b[0m\u001b[37m\u001b[0m \u001b[1m2s\u001b[0m 12ms/step - accuracy: 0.6875 - loss: 0.1569 - val_accuracy: 0.7000 - val_loss: 0.1983\n",
            "Epoch 35/50\n",
            "\u001b[1m182/182\u001b[0m \u001b[32m━━━━━━━━━━━━━━━━━━━━\u001b[0m\u001b[37m\u001b[0m \u001b[1m100s\u001b[0m 531ms/step - accuracy: 0.7458 - loss: 0.1456 - val_accuracy: 0.3177 - val_loss: 1.1066\n",
            "Epoch 36/50\n",
            "\u001b[1m182/182\u001b[0m \u001b[32m━━━━━━━━━━━━━━━━━━━━\u001b[0m\u001b[37m\u001b[0m \u001b[1m0s\u001b[0m 393us/step - accuracy: 0.7188 - loss: 0.2022 - val_accuracy: 0.2000 - val_loss: 1.5339\n",
            "Epoch 37/50\n",
            "\u001b[1m182/182\u001b[0m \u001b[32m━━━━━━━━━━━━━━━━━━━━\u001b[0m\u001b[37m\u001b[0m \u001b[1m98s\u001b[0m 523ms/step - accuracy: 0.6258 - loss: 0.2019 - val_accuracy: 0.7031 - val_loss: 0.1641\n",
            "Epoch 38/50\n",
            "\u001b[1m182/182\u001b[0m \u001b[32m━━━━━━━━━━━━━━━━━━━━\u001b[0m\u001b[37m\u001b[0m \u001b[1m0s\u001b[0m 402us/step - accuracy: 0.7812 - loss: 0.1087 - val_accuracy: 0.9000 - val_loss: 0.0868\n",
            "Epoch 39/50\n",
            "\u001b[1m182/182\u001b[0m \u001b[32m━━━━━━━━━━━━━━━━━━━━\u001b[0m\u001b[37m\u001b[0m \u001b[1m100s\u001b[0m 527ms/step - accuracy: 0.7717 - loss: 0.1315 - val_accuracy: 0.3958 - val_loss: 0.3881\n",
            "Epoch 40/50\n",
            "\u001b[1m182/182\u001b[0m \u001b[32m━━━━━━━━━━━━━━━━━━━━\u001b[0m\u001b[37m\u001b[0m \u001b[1m0s\u001b[0m 405us/step - accuracy: 0.5938 - loss: 0.2140 - val_accuracy: 0.3000 - val_loss: 0.3990\n",
            "Epoch 41/50\n",
            "\u001b[1m182/182\u001b[0m \u001b[32m━━━━━━━━━━━━━━━━━━━━\u001b[0m\u001b[37m\u001b[0m \u001b[1m142s\u001b[0m 524ms/step - accuracy: 0.8097 - loss: 0.1138 - val_accuracy: 0.8177 - val_loss: 0.1111\n",
            "Epoch 42/50\n",
            "\u001b[1m182/182\u001b[0m \u001b[32m━━━━━━━━━━━━━━━━━━━━\u001b[0m\u001b[37m\u001b[0m \u001b[1m0s\u001b[0m 450us/step - accuracy: 0.8125 - loss: 0.1151 - val_accuracy: 0.5000 - val_loss: 0.2261\n",
            "Epoch 43/50\n",
            "\u001b[1m182/182\u001b[0m \u001b[32m━━━━━━━━━━━━━━━━━━━━\u001b[0m\u001b[37m\u001b[0m \u001b[1m99s\u001b[0m 526ms/step - accuracy: 0.8194 - loss: 0.1051 - val_accuracy: 0.8229 - val_loss: 0.1052\n",
            "Epoch 44/50\n",
            "\u001b[1m182/182\u001b[0m \u001b[32m━━━━━━━━━━━━━━━━━━━━\u001b[0m\u001b[37m\u001b[0m \u001b[1m0s\u001b[0m 819us/step - accuracy: 0.9375 - loss: 0.0808 - val_accuracy: 0.9000 - val_loss: 0.1255\n",
            "Epoch 45/50\n",
            "\u001b[1m182/182\u001b[0m \u001b[32m━━━━━━━━━━━━━━━━━━━━\u001b[0m\u001b[37m\u001b[0m \u001b[1m142s\u001b[0m 528ms/step - accuracy: 0.8501 - loss: 0.0928 - val_accuracy: 0.7865 - val_loss: 0.1101\n",
            "Epoch 46/50\n",
            "\u001b[1m182/182\u001b[0m \u001b[32m━━━━━━━━━━━━━━━━━━━━\u001b[0m\u001b[37m\u001b[0m \u001b[1m0s\u001b[0m 396us/step - accuracy: 0.8438 - loss: 0.0883 - val_accuracy: 0.8000 - val_loss: 0.0856\n",
            "Epoch 47/50\n",
            "\u001b[1m182/182\u001b[0m \u001b[32m━━━━━━━━━━━━━━━━━━━━\u001b[0m\u001b[37m\u001b[0m \u001b[1m142s\u001b[0m 522ms/step - accuracy: 0.8556 - loss: 0.0901 - val_accuracy: 0.7031 - val_loss: 0.1509\n",
            "Epoch 48/50\n",
            "\u001b[1m182/182\u001b[0m \u001b[32m━━━━━━━━━━━━━━━━━━━━\u001b[0m\u001b[37m\u001b[0m \u001b[1m0s\u001b[0m 399us/step - accuracy: 0.9062 - loss: 0.0721 - val_accuracy: 0.8000 - val_loss: 0.2362\n",
            "Epoch 49/50\n",
            "\u001b[1m182/182\u001b[0m \u001b[32m━━━━━━━━━━━━━━━━━━━━\u001b[0m\u001b[37m\u001b[0m \u001b[1m142s\u001b[0m 522ms/step - accuracy: 0.8322 - loss: 0.1034 - val_accuracy: 0.5938 - val_loss: 0.2886\n",
            "Epoch 50/50\n",
            "\u001b[1m182/182\u001b[0m \u001b[32m━━━━━━━━━━━━━━━━━━━━\u001b[0m\u001b[37m\u001b[0m \u001b[1m0s\u001b[0m 376us/step - accuracy: 0.7500 - loss: 0.1274 - val_accuracy: 0.7000 - val_loss: 0.1527\n",
            "CPU times: user 47min 6s, sys: 24.7 s, total: 47min 31s\n",
            "Wall time: 52min 56s\n"
          ]
        }
      ],
      "source": [
        "%%time\n",
        "STEP_SIZE_TRAIN = train_generator.n//train_generator.batch_size\n",
        "STEP_SIZE_VALID = valid_generator.n//valid_generator.batch_size\n",
        "history = model.fit(train_generator,\n",
        "                    steps_per_epoch = STEP_SIZE_TRAIN,\n",
        "                    validation_data = valid_generator,\n",
        "                    validation_steps = STEP_SIZE_VALID,\n",
        "                    epochs=EPOCHS)"
      ]
    },
    {
      "cell_type": "code",
      "execution_count": null,
      "id": "6710141f",
      "metadata": {
        "execution": {
          "iopub.execute_input": "2022-07-18T13:17:26.528857Z",
          "iopub.status.busy": "2022-07-18T13:17:26.528495Z",
          "iopub.status.idle": "2022-07-18T13:17:26.901191Z",
          "shell.execute_reply": "2022-07-18T13:17:26.900211Z"
        },
        "papermill": {
          "duration": 2.336208,
          "end_time": "2022-07-18T13:17:26.903870",
          "exception": false,
          "start_time": "2022-07-18T13:17:24.567662",
          "status": "completed"
        },
        "tags": [],
        "colab": {
          "base_uri": "https://localhost:8080/",
          "height": 922
        },
        "id": "6710141f",
        "outputId": "85300dbc-066b-4da5-cafe-c16c248a147c"
      },
      "outputs": [
        {
          "output_type": "display_data",
          "data": {
            "text/plain": [
              "<Figure size 640x480 with 1 Axes>"
            ],
            "image/png": "[encoded data removed]"
          },
          "metadata": {}
        },
        {
          "output_type": "display_data",
          "data": {
            "text/plain": [
              "<Figure size 640x480 with 1 Axes>"
            ],
            "image/png": "[encoded data removed]"
          },
          "metadata": {}
        },
        {
          "output_type": "stream",
          "name": "stdout",
          "text": [
            "CPU times: user 452 ms, sys: 105 ms, total: 556 ms\n",
            "Wall time: 570 ms\n"
          ]
        }
      ],
      "source": [
        "%%time\n",
        "acc = history.history['accuracy']\n",
        "val_acc = history.history['val_accuracy']\n",
        "loss = history.history['loss']\n",
        "val_loss = history.history['val_loss']\n",
        "epochs = range(1, len(acc) + 1)\n",
        "#Train and validation accuracy\n",
        "plt.plot(epochs, acc, 'b', label='Training accurarcy')\n",
        "plt.plot(epochs, val_acc, 'r', label='Validation accurarcy')\n",
        "plt.title('Training and Validation accurarcy')\n",
        "plt.legend()\n",
        "\n",
        "plt.figure()\n",
        "#Train and validation loss\n",
        "plt.plot(epochs, loss, 'b', label='Training loss')\n",
        "plt.plot(epochs, val_loss, 'r', label='Validation loss')\n",
        "plt.title('Training and Validation loss')\n",
        "plt.legend()\n",
        "plt.show()"
      ]
    },
    {
      "cell_type": "markdown",
      "source": [
        "# Model Testing"
      ],
      "metadata": {
        "id": "nbb4Y9MYzBqU"
      },
      "id": "nbb4Y9MYzBqU"
    },
    {
      "cell_type": "code",
      "execution_count": null,
      "id": "c685f638",
      "metadata": {
        "execution": {
          "iopub.execute_input": "2022-07-18T13:17:31.259558Z",
          "iopub.status.busy": "2022-07-18T13:17:31.259127Z",
          "iopub.status.idle": "2022-07-18T13:18:11.743940Z",
          "shell.execute_reply": "2022-07-18T13:18:11.742894Z"
        },
        "papermill": {
          "duration": 42.743974,
          "end_time": "2022-07-18T13:18:11.746309",
          "exception": false,
          "start_time": "2022-07-18T13:17:29.002335",
          "status": "completed"
        },
        "tags": [],
        "colab": {
          "base_uri": "https://localhost:8080/"
        },
        "id": "c685f638",
        "outputId": "f30ab3b9-fbe3-4948-9c0c-9330d3c83e83"
      },
      "outputs": [
        {
          "output_type": "stream",
          "name": "stdout",
          "text": [
            "\u001b[1m2087/2087\u001b[0m \u001b[32m━━━━━━━━━━━━━━━━━━━━\u001b[0m\u001b[37m\u001b[0m \u001b[1m14s\u001b[0m 6ms/step\n"
          ]
        }
      ],
      "source": [
        "STEP_SIZE_TEST=test_generator.n//test_generator.batch_size\n",
        "test_generator.reset()\n",
        "pred = model.predict(test_generator,\n",
        "                               steps=STEP_SIZE_TEST,\n",
        "                               verbose=1)"
      ]
    },
    {
      "cell_type": "code",
      "execution_count": null,
      "id": "2f50a4c9",
      "metadata": {
        "execution": {
          "iopub.execute_input": "2022-07-18T13:18:16.228878Z",
          "iopub.status.busy": "2022-07-18T13:18:16.228534Z",
          "iopub.status.idle": "2022-07-18T13:18:39.701167Z",
          "shell.execute_reply": "2022-07-18T13:18:39.700281Z"
        },
        "papermill": {
          "duration": 25.857941,
          "end_time": "2022-07-18T13:18:39.704311",
          "exception": false,
          "start_time": "2022-07-18T13:18:13.846370",
          "status": "completed"
        },
        "tags": [],
        "colab": {
          "base_uri": "https://localhost:8080/"
        },
        "id": "2f50a4c9",
        "outputId": "a95b6699-b385-4c5f-e4b5-730273e9ba47"
      },
      "outputs": [
        {
          "output_type": "stream",
          "name": "stdout",
          "text": [
            "\u001b[1m2087/2087\u001b[0m \u001b[32m━━━━━━━━━━━━━━━━━━━━\u001b[0m\u001b[37m\u001b[0m \u001b[1m11s\u001b[0m 5ms/step - accuracy: 0.5577 - loss: 0.3144\n",
            "0.5855294466018677 0.27283185720443726\n"
          ]
        }
      ],
      "source": [
        "loss, acc = model.evaluate(test_generator, steps=STEP_SIZE_TEST, verbose=1)\n",
        "print(acc, loss)"
      ]
    },
    {
      "cell_type": "code",
      "execution_count": null,
      "id": "f5971734",
      "metadata": {
        "execution": {
          "iopub.execute_input": "2022-07-18T13:18:43.863773Z",
          "iopub.status.busy": "2022-07-18T13:18:43.863409Z",
          "iopub.status.idle": "2022-07-18T13:18:43.881163Z",
          "shell.execute_reply": "2022-07-18T13:18:43.880256Z"
        },
        "papermill": {
          "duration": 2.156842,
          "end_time": "2022-07-18T13:18:43.883166",
          "exception": false,
          "start_time": "2022-07-18T13:18:41.726324",
          "status": "completed"
        },
        "tags": [],
        "colab": {
          "base_uri": "https://localhost:8080/",
          "height": 398
        },
        "id": "f5971734",
        "outputId": "9a1a8349-3ff9-4697-9f4e-fe4049425f6e"
      },
      "outputs": [
        {
          "output_type": "execute_result",
          "data": {
            "text/plain": [
              "8    988\n",
              "3    973\n",
              "7    892\n",
              "5    808\n",
              "9    609\n",
              "4    540\n",
              "6    348\n",
              "0    268\n",
              "1    213\n",
              "2    188\n",
              "Name: count, dtype: int64"
            ],
            "text/html": [
              "<div>\n",
              "<style scoped>\n",
              "    .dataframe tbody tr th:only-of-type {\n",
              "        vertical-align: middle;\n",
              "    }\n",
              "\n",
              "    .dataframe tbody tr th {\n",
              "        vertical-align: top;\n",
              "    }\n",
              "\n",
              "    .dataframe thead th {\n",
              "        text-align: right;\n",
              "    }\n",
              "</style>\n",
              "<table border=\"1\" class=\"dataframe\">\n",
              "  <thead>\n",
              "    <tr style=\"text-align: right;\">\n",
              "      <th></th>\n",
              "      <th>count</th>\n",
              "    </tr>\n",
              "  </thead>\n",
              "  <tbody>\n",
              "    <tr>\n",
              "      <th>8</th>\n",
              "      <td>988</td>\n",
              "    </tr>\n",
              "    <tr>\n",
              "      <th>3</th>\n",
              "      <td>973</td>\n",
              "    </tr>\n",
              "    <tr>\n",
              "      <th>7</th>\n",
              "      <td>892</td>\n",
              "    </tr>\n",
              "    <tr>\n",
              "      <th>5</th>\n",
              "      <td>808</td>\n",
              "    </tr>\n",
              "    <tr>\n",
              "      <th>9</th>\n",
              "      <td>609</td>\n",
              "    </tr>\n",
              "    <tr>\n",
              "      <th>4</th>\n",
              "      <td>540</td>\n",
              "    </tr>\n",
              "    <tr>\n",
              "      <th>6</th>\n",
              "      <td>348</td>\n",
              "    </tr>\n",
              "    <tr>\n",
              "      <th>0</th>\n",
              "      <td>268</td>\n",
              "    </tr>\n",
              "    <tr>\n",
              "      <th>1</th>\n",
              "      <td>213</td>\n",
              "    </tr>\n",
              "    <tr>\n",
              "      <th>2</th>\n",
              "      <td>188</td>\n",
              "    </tr>\n",
              "  </tbody>\n",
              "</table>\n",
              "</div><br><label><b>dtype:</b> int64</label>"
            ]
          },
          "metadata": {},
          "execution_count": 13
        }
      ],
      "source": [
        "pd.Series(train_generator.classes).value_counts()"
      ]
    },
    {
      "cell_type": "code",
      "execution_count": null,
      "id": "14bf6a05",
      "metadata": {
        "execution": {
          "iopub.execute_input": "2022-07-18T13:18:48.270735Z",
          "iopub.status.busy": "2022-07-18T13:18:48.270180Z",
          "iopub.status.idle": "2022-07-18T13:18:48.282590Z",
          "shell.execute_reply": "2022-07-18T13:18:48.281659Z"
        },
        "papermill": {
          "duration": 2.236359,
          "end_time": "2022-07-18T13:18:48.285407",
          "exception": false,
          "start_time": "2022-07-18T13:18:46.049048",
          "status": "completed"
        },
        "tags": [],
        "colab": {
          "base_uri": "https://localhost:8080/",
          "height": 398
        },
        "id": "14bf6a05",
        "outputId": "644b7a3c-a725-49c4-a74e-b36a4e52bea7"
      },
      "outputs": [
        {
          "output_type": "execute_result",
          "data": {
            "text/plain": [
              "8    354\n",
              "3    348\n",
              "7    320\n",
              "5    289\n",
              "9    218\n",
              "4    194\n",
              "6    124\n",
              "0     96\n",
              "1     76\n",
              "2     68\n",
              "Name: count, dtype: int64"
            ],
            "text/html": [
              "<div>\n",
              "<style scoped>\n",
              "    .dataframe tbody tr th:only-of-type {\n",
              "        vertical-align: middle;\n",
              "    }\n",
              "\n",
              "    .dataframe tbody tr th {\n",
              "        vertical-align: top;\n",
              "    }\n",
              "\n",
              "    .dataframe thead th {\n",
              "        text-align: right;\n",
              "    }\n",
              "</style>\n",
              "<table border=\"1\" class=\"dataframe\">\n",
              "  <thead>\n",
              "    <tr style=\"text-align: right;\">\n",
              "      <th></th>\n",
              "      <th>count</th>\n",
              "    </tr>\n",
              "  </thead>\n",
              "  <tbody>\n",
              "    <tr>\n",
              "      <th>8</th>\n",
              "      <td>354</td>\n",
              "    </tr>\n",
              "    <tr>\n",
              "      <th>3</th>\n",
              "      <td>348</td>\n",
              "    </tr>\n",
              "    <tr>\n",
              "      <th>7</th>\n",
              "      <td>320</td>\n",
              "    </tr>\n",
              "    <tr>\n",
              "      <th>5</th>\n",
              "      <td>289</td>\n",
              "    </tr>\n",
              "    <tr>\n",
              "      <th>9</th>\n",
              "      <td>218</td>\n",
              "    </tr>\n",
              "    <tr>\n",
              "      <th>4</th>\n",
              "      <td>194</td>\n",
              "    </tr>\n",
              "    <tr>\n",
              "      <th>6</th>\n",
              "      <td>124</td>\n",
              "    </tr>\n",
              "    <tr>\n",
              "      <th>0</th>\n",
              "      <td>96</td>\n",
              "    </tr>\n",
              "    <tr>\n",
              "      <th>1</th>\n",
              "      <td>76</td>\n",
              "    </tr>\n",
              "    <tr>\n",
              "      <th>2</th>\n",
              "      <td>68</td>\n",
              "    </tr>\n",
              "  </tbody>\n",
              "</table>\n",
              "</div><br><label><b>dtype:</b> int64</label>"
            ]
          },
          "metadata": {},
          "execution_count": 14
        }
      ],
      "source": [
        "pd.Series(test_generator.classes).value_counts()"
      ]
    },
    {
      "cell_type": "code",
      "execution_count": null,
      "id": "5e3234dd",
      "metadata": {
        "execution": {
          "iopub.execute_input": "2022-07-18T13:18:52.652563Z",
          "iopub.status.busy": "2022-07-18T13:18:52.651894Z",
          "iopub.status.idle": "2022-07-18T13:18:52.667395Z",
          "shell.execute_reply": "2022-07-18T13:18:52.666211Z"
        },
        "papermill": {
          "duration": 2.163467,
          "end_time": "2022-07-18T13:18:52.669590",
          "exception": false,
          "start_time": "2022-07-18T13:18:50.506123",
          "status": "completed"
        },
        "tags": [],
        "colab": {
          "base_uri": "https://localhost:8080/",
          "height": 398
        },
        "id": "5e3234dd",
        "outputId": "62205631-e158-4828-fd73-6c4db6d14079"
      },
      "outputs": [
        {
          "output_type": "execute_result",
          "data": {
            "text/plain": [
              "blast                       575\n",
              "hispa                       441\n",
              "normal                      427\n",
              "dead_heart                  411\n",
              "downy_mildew                 59\n",
              "bacterial_leaf_blight        46\n",
              "bacterial_panicle_blight     38\n",
              "tungro                       31\n",
              "bacterial_leaf_streak        30\n",
              "brown_spot                   29\n",
              "Name: count, dtype: int64"
            ],
            "text/html": [
              "<div>\n",
              "<style scoped>\n",
              "    .dataframe tbody tr th:only-of-type {\n",
              "        vertical-align: middle;\n",
              "    }\n",
              "\n",
              "    .dataframe tbody tr th {\n",
              "        vertical-align: top;\n",
              "    }\n",
              "\n",
              "    .dataframe thead th {\n",
              "        text-align: right;\n",
              "    }\n",
              "</style>\n",
              "<table border=\"1\" class=\"dataframe\">\n",
              "  <thead>\n",
              "    <tr style=\"text-align: right;\">\n",
              "      <th></th>\n",
              "      <th>count</th>\n",
              "    </tr>\n",
              "  </thead>\n",
              "  <tbody>\n",
              "    <tr>\n",
              "      <th>blast</th>\n",
              "      <td>575</td>\n",
              "    </tr>\n",
              "    <tr>\n",
              "      <th>hispa</th>\n",
              "      <td>441</td>\n",
              "    </tr>\n",
              "    <tr>\n",
              "      <th>normal</th>\n",
              "      <td>427</td>\n",
              "    </tr>\n",
              "    <tr>\n",
              "      <th>dead_heart</th>\n",
              "      <td>411</td>\n",
              "    </tr>\n",
              "    <tr>\n",
              "      <th>downy_mildew</th>\n",
              "      <td>59</td>\n",
              "    </tr>\n",
              "    <tr>\n",
              "      <th>bacterial_leaf_blight</th>\n",
              "      <td>46</td>\n",
              "    </tr>\n",
              "    <tr>\n",
              "      <th>bacterial_panicle_blight</th>\n",
              "      <td>38</td>\n",
              "    </tr>\n",
              "    <tr>\n",
              "      <th>tungro</th>\n",
              "      <td>31</td>\n",
              "    </tr>\n",
              "    <tr>\n",
              "      <th>bacterial_leaf_streak</th>\n",
              "      <td>30</td>\n",
              "    </tr>\n",
              "    <tr>\n",
              "      <th>brown_spot</th>\n",
              "      <td>29</td>\n",
              "    </tr>\n",
              "  </tbody>\n",
              "</table>\n",
              "</div><br><label><b>dtype:</b> int64</label>"
            ]
          },
          "metadata": {},
          "execution_count": 15
        }
      ],
      "source": [
        "predicted_class_indices=np.argmax(pred,axis=1)\n",
        "labels = (train_generator.class_indices)\n",
        "\n",
        "labels = (train_generator.class_indices)\n",
        "labels = dict((v,k) for k,v in labels.items())\n",
        "predictions = [labels[k] for k in predicted_class_indices]\n",
        "\n",
        "pd.Series(predictions).value_counts()"
      ]
    },
    {
      "cell_type": "code",
      "execution_count": null,
      "id": "20b2221d",
      "metadata": {
        "execution": {
          "iopub.execute_input": "2022-07-18T13:18:57.606603Z",
          "iopub.status.busy": "2022-07-18T13:18:57.606260Z",
          "iopub.status.idle": "2022-07-18T13:18:57.639060Z",
          "shell.execute_reply": "2022-07-18T13:18:57.637507Z"
        },
        "papermill": {
          "duration": 2.221415,
          "end_time": "2022-07-18T13:18:57.641314",
          "exception": false,
          "start_time": "2022-07-18T13:18:55.419899",
          "status": "completed"
        },
        "tags": [],
        "colab": {
          "base_uri": "https://localhost:8080/",
          "height": 206
        },
        "id": "20b2221d",
        "outputId": "d92d3a0d-ba92-497f-a3c3-41323a36d285"
      },
      "outputs": [
        {
          "output_type": "execute_result",
          "data": {
            "text/plain": [
              "                           image_id   label\n",
              "0  bacterial_leaf_blight/100133.jpg  normal\n",
              "1  bacterial_leaf_blight/100268.jpg   hispa\n",
              "2  bacterial_leaf_blight/100330.jpg  normal\n",
              "3  bacterial_leaf_blight/100382.jpg   hispa\n",
              "4  bacterial_leaf_blight/100447.jpg   blast"
            ],
            "text/html": [
              "\n",
              "  <div id=\"df-0bd4ba33-d1bc-4d56-959f-3a346975c924\" class=\"colab-df-container\">\n",
              "    <div>\n",
              "<style scoped>\n",
              "    .dataframe tbody tr th:only-of-type {\n",
              "        vertical-align: middle;\n",
              "    }\n",
              "\n",
              "    .dataframe tbody tr th {\n",
              "        vertical-align: top;\n",
              "    }\n",
              "\n",
              "    .dataframe thead th {\n",
              "        text-align: right;\n",
              "    }\n",
              "</style>\n",
              "<table border=\"1\" class=\"dataframe\">\n",
              "  <thead>\n",
              "    <tr style=\"text-align: right;\">\n",
              "      <th></th>\n",
              "      <th>image_id</th>\n",
              "      <th>label</th>\n",
              "    </tr>\n",
              "  </thead>\n",
              "  <tbody>\n",
              "    <tr>\n",
              "      <th>0</th>\n",
              "      <td>bacterial_leaf_blight/100133.jpg</td>\n",
              "      <td>normal</td>\n",
              "    </tr>\n",
              "    <tr>\n",
              "      <th>1</th>\n",
              "      <td>bacterial_leaf_blight/100268.jpg</td>\n",
              "      <td>hispa</td>\n",
              "    </tr>\n",
              "    <tr>\n",
              "      <th>2</th>\n",
              "      <td>bacterial_leaf_blight/100330.jpg</td>\n",
              "      <td>normal</td>\n",
              "    </tr>\n",
              "    <tr>\n",
              "      <th>3</th>\n",
              "      <td>bacterial_leaf_blight/100382.jpg</td>\n",
              "      <td>hispa</td>\n",
              "    </tr>\n",
              "    <tr>\n",
              "      <th>4</th>\n",
              "      <td>bacterial_leaf_blight/100447.jpg</td>\n",
              "      <td>blast</td>\n",
              "    </tr>\n",
              "  </tbody>\n",
              "</table>\n",
              "</div>\n",
              "    <div class=\"colab-df-buttons\">\n",
              "\n",
              "  <div class=\"colab-df-container\">\n",
              "    <button class=\"colab-df-convert\" onclick=\"convertToInteractive('df-0bd4ba33-d1bc-4d56-959f-3a346975c924')\"\n",
              "            title=\"Convert this dataframe to an interactive table.\"\n",
              "            style=\"display:none;\">\n",
              "\n",
              "  <svg xmlns=\"http://www.w3.org/2000/svg\" height=\"24px\" viewBox=\"0 -960 960 960\">\n",
              "    <path d=\"M120-120v-720h720v720H120Zm60-500h600v-160H180v160Zm220 220h160v-160H400v160Zm0 220h160v-160H400v160ZM180-400h160v-160H180v160Zm440 0h160v-160H620v160ZM180-180h160v-160H180v160Zm440 0h160v-160H620v160Z\"/>\n",
              "  </svg>\n",
              "    </button>\n",
              "\n",
              "  <style>\n",
              "    .colab-df-container {\n",
              "      display:flex;\n",
              "      gap: 12px;\n",
              "    }\n",
              "\n",
              "    .colab-df-convert {\n",
              "      background-color: #E8F0FE;\n",
              "      border: none;\n",
              "      border-radius: 50%;\n",
              "      cursor: pointer;\n",
              "      display: none;\n",
              "      fill: #1967D2;\n",
              "      height: 32px;\n",
              "      padding: 0 0 0 0;\n",
              "      width: 32px;\n",
              "    }\n",
              "\n",
              "    .colab-df-convert:hover {\n",
              "      background-color: #E2EBFA;\n",
              "      box-shadow: 0px 1px 2px rgba(60, 64, 67, 0.3), 0px 1px 3px 1px rgba(60, 64, 67, 0.15);\n",
              "      fill: #174EA6;\n",
              "    }\n",
              "\n",
              "    .colab-df-buttons div {\n",
              "      margin-bottom: 4px;\n",
              "    }\n",
              "\n",
              "    [theme=dark] .colab-df-convert {\n",
              "      background-color: #3B4455;\n",
              "      fill: #D2E3FC;\n",
              "    }\n",
              "\n",
              "    [theme=dark] .colab-df-convert:hover {\n",
              "      background-color: #434B5C;\n",
              "      box-shadow: 0px 1px 3px 1px rgba(0, 0, 0, 0.15);\n",
              "      filter: drop-shadow(0px 1px 2px rgba(0, 0, 0, 0.3));\n",
              "      fill: #FFFFFF;\n",
              "    }\n",
              "  </style>\n",
              "\n",
              "    <script>\n",
              "      const buttonEl =\n",
              "        document.querySelector('#df-0bd4ba33-d1bc-4d56-959f-3a346975c924 button.colab-df-convert');\n",
              "      buttonEl.style.display =\n",
              "        google.colab.kernel.accessAllowed ? 'block' : 'none';\n",
              "\n",
              "      async function convertToInteractive(key) {\n",
              "        const element = document.querySelector('#df-0bd4ba33-d1bc-4d56-959f-3a346975c924');\n",
              "        const dataTable =\n",
              "          await google.colab.kernel.invokeFunction('convertToInteractive',\n",
              "                                                    [key], {});\n",
              "        if (!dataTable) return;\n",
              "\n",
              "        const docLinkHtml = 'Like what you see? Visit the ' +\n",
              "          '<a target=\"_blank\" href=https://colab.research.google.com/notebooks/data_table.ipynb>data table notebook</a>'\n",
              "          + ' to learn more about interactive tables.';\n",
              "        element.innerHTML = '';\n",
              "        dataTable['output_type'] = 'display_data';\n",
              "        await google.colab.output.renderOutput(dataTable, element);\n",
              "        const docLink = document.createElement('div');\n",
              "        docLink.innerHTML = docLinkHtml;\n",
              "        element.appendChild(docLink);\n",
              "      }\n",
              "    </script>\n",
              "  </div>\n",
              "\n",
              "\n",
              "<div id=\"df-bbc55878-19b2-45fb-9f3f-c7e2e868877f\">\n",
              "  <button class=\"colab-df-quickchart\" onclick=\"quickchart('df-bbc55878-19b2-45fb-9f3f-c7e2e868877f')\"\n",
              "            title=\"Suggest charts\"\n",
              "            style=\"display:none;\">\n",
              "\n",
              "<svg xmlns=\"http://www.w3.org/2000/svg\" height=\"24px\"viewBox=\"0 0 24 24\"\n",
              "     width=\"24px\">\n",
              "    <g>\n",
              "        <path d=\"M19 3H5c-1.1 0-2 .9-2 2v14c0 1.1.9 2 2 2h14c1.1 0 2-.9 2-2V5c0-1.1-.9-2-2-2zM9 17H7v-7h2v7zm4 0h-2V7h2v10zm4 0h-2v-4h2v4z\"/>\n",
              "    </g>\n",
              "</svg>\n",
              "  </button>\n",
              "\n",
              "<style>\n",
              "  .colab-df-quickchart {\n",
              "      --bg-color: #E8F0FE;\n",
              "      --fill-color: #1967D2;\n",
              "      --hover-bg-color: #E2EBFA;\n",
              "      --hover-fill-color: #174EA6;\n",
              "      --disabled-fill-color: #AAA;\n",
              "      --disabled-bg-color: #DDD;\n",
              "  }\n",
              "\n",
              "  [theme=dark] .colab-df-quickchart {\n",
              "      --bg-color: #3B4455;\n",
              "      --fill-color: #D2E3FC;\n",
              "      --hover-bg-color: #434B5C;\n",
              "      --hover-fill-color: #FFFFFF;\n",
              "      --disabled-bg-color: #3B4455;\n",
              "      --disabled-fill-color: #666;\n",
              "  }\n",
              "\n",
              "  .colab-df-quickchart {\n",
              "    background-color: var(--bg-color);\n",
              "    border: none;\n",
              "    border-radius: 50%;\n",
              "    cursor: pointer;\n",
              "    display: none;\n",
              "    fill: var(--fill-color);\n",
              "    height: 32px;\n",
              "    padding: 0;\n",
              "    width: 32px;\n",
              "  }\n",
              "\n",
              "  .colab-df-quickchart:hover {\n",
              "    background-color: var(--hover-bg-color);\n",
              "    box-shadow: 0 1px 2px rgba(60, 64, 67, 0.3), 0 1px 3px 1px rgba(60, 64, 67, 0.15);\n",
              "    fill: var(--button-hover-fill-color);\n",
              "  }\n",
              "\n",
              "  .colab-df-quickchart-complete:disabled,\n",
              "  .colab-df-quickchart-complete:disabled:hover {\n",
              "    background-color: var(--disabled-bg-color);\n",
              "    fill: var(--disabled-fill-color);\n",
              "    box-shadow: none;\n",
              "  }\n",
              "\n",
              "  .colab-df-spinner {\n",
              "    border: 2px solid var(--fill-color);\n",
              "    border-color: transparent;\n",
              "    border-bottom-color: var(--fill-color);\n",
              "    animation:\n",
              "      spin 1s steps(1) infinite;\n",
              "  }\n",
              "\n",
              "  @keyframes spin {\n",
              "    0% {\n",
              "      border-color: transparent;\n",
              "      border-bottom-color: var(--fill-color);\n",
              "      border-left-color: var(--fill-color);\n",
              "    }\n",
              "    20% {\n",
              "      border-color: transparent;\n",
              "      border-left-color: var(--fill-color);\n",
              "      border-top-color: var(--fill-color);\n",
              "    }\n",
              "    30% {\n",
              "      border-color: transparent;\n",
              "      border-left-color: var(--fill-color);\n",
              "      border-top-color: var(--fill-color);\n",
              "      border-right-color: var(--fill-color);\n",
              "    }\n",
              "    40% {\n",
              "      border-color: transparent;\n",
              "      border-right-color: var(--fill-color);\n",
              "      border-top-color: var(--fill-color);\n",
              "    }\n",
              "    60% {\n",
              "      border-color: transparent;\n",
              "      border-right-color: var(--fill-color);\n",
              "    }\n",
              "    80% {\n",
              "      border-color: transparent;\n",
              "      border-right-color: var(--fill-color);\n",
              "      border-bottom-color: var(--fill-color);\n",
              "    }\n",
              "    90% {\n",
              "      border-color: transparent;\n",
              "      border-bottom-color: var(--fill-color);\n",
              "    }\n",
              "  }\n",
              "</style>\n",
              "\n",
              "  <script>\n",
              "    async function quickchart(key) {\n",
              "      const quickchartButtonEl =\n",
              "        document.querySelector('#' + key + ' button');\n",
              "      quickchartButtonEl.disabled = true;  // To prevent multiple clicks.\n",
              "      quickchartButtonEl.classList.add('colab-df-spinner');\n",
              "      try {\n",
              "        const charts = await google.colab.kernel.invokeFunction(\n",
              "            'suggestCharts', [key], {});\n",
              "      } catch (error) {\n",
              "        console.error('Error during call to suggestCharts:', error);\n",
              "      }\n",
              "      quickchartButtonEl.classList.remove('colab-df-spinner');\n",
              "      quickchartButtonEl.classList.add('colab-df-quickchart-complete');\n",
              "    }\n",
              "    (() => {\n",
              "      let quickchartButtonEl =\n",
              "        document.querySelector('#df-bbc55878-19b2-45fb-9f3f-c7e2e868877f button');\n",
              "      quickchartButtonEl.style.display =\n",
              "        google.colab.kernel.accessAllowed ? 'block' : 'none';\n",
              "    })();\n",
              "  </script>\n",
              "</div>\n",
              "\n",
              "    </div>\n",
              "  </div>\n"
            ],
            "application/vnd.google.colaboratory.intrinsic+json": {
              "type": "dataframe",
              "variable_name": "results",
              "summary": "{\n  \"name\": \"results\",\n  \"rows\": 2087,\n  \"fields\": [\n    {\n      \"column\": \"image_id\",\n      \"properties\": {\n        \"dtype\": \"string\",\n        \"num_unique_values\": 2087,\n        \"samples\": [\n          \"hispa/103792.jpg\",\n          \"normal/106391.jpg\",\n          \"blast/104170.jpg\"\n        ],\n        \"semantic_type\": \"\",\n        \"description\": \"\"\n      }\n    },\n    {\n      \"column\": \"label\",\n      \"properties\": {\n        \"dtype\": \"category\",\n        \"num_unique_values\": 10,\n        \"samples\": [\n          \"tungro\",\n          \"hispa\",\n          \"dead_heart\"\n        ],\n        \"semantic_type\": \"\",\n        \"description\": \"\"\n      }\n    }\n  ]\n}"
            }
          },
          "metadata": {},
          "execution_count": 16
        }
      ],
      "source": [
        "filenames=test_generator.filenames\n",
        "\n",
        "results=pd.DataFrame({\"image_id\":filenames,\n",
        "                      \"label\":predictions})\n",
        "results.image_id = results.image_id.str.replace('./', '')\n",
        "results.to_csv(\"submission.csv\",index=False)\n",
        "results.head()"
      ]
    },
    {
      "cell_type": "code",
      "source": [],
      "metadata": {
        "id": "57uMZ_essuB7"
      },
      "id": "57uMZ_essuB7",
      "execution_count": null,
      "outputs": []
    }
  ],
  "metadata": {
    "kernelspec": {
      "display_name": "Python 3",
      "name": "python3"
    },
    "language_info": {
      "codemirror_mode": {
        "name": "ipython",
        "version": 3
      },
      "file_extension": ".py",
      "mimetype": "text/x-python",
      "name": "python",
      "nbconvert_exporter": "python",
      "pygments_lexer": "ipython3",
      "version": "3.7.12"
    },
    "papermill": {
      "default_parameters": {},
      "duration": 25371.762311,
      "end_time": "2022-07-18T13:19:03.548868",
      "environment_variables": {},
      "exception": null,
      "input_path": "__notebook__.ipynb",
      "output_path": "__notebook__.ipynb",
      "parameters": {},
      "start_time": "2022-07-18T06:16:11.786557",
      "version": "2.3.4"
    },
    "colab": {
      "provenance": [],
      "gpuType": "T4"
    },
    "accelerator": "GPU"
  },
  "nbformat": 4,
  "nbformat_minor": 5
}