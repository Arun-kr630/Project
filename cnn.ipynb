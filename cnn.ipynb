{
  "cells": [
    {
      "cell_type": "code",
      "source": [
        "import kagglehub\n",
        "\n",
        "# Download latest version\n",
        "path = kagglehub.dataset_download(\"ricardosalvatorelli1/paddydoctor\")\n",
        "\n",
        "print(\"Path to dataset files:\", path)\n"
      ],
      "metadata": {
        "colab": {
          "base_uri": "https://localhost:8080/"
        },
        "id": "OQj0_2gMpkvA",
        "outputId": "14fa28a2-a35d-43b5-cae9-99c181ed0098"
      },
      "id": "OQj0_2gMpkvA",
      "execution_count": 1,
      "outputs": [
        {
          "output_type": "stream",
          "name": "stdout",
          "text": [
            "Warning: Looks like you're using an outdated `kagglehub` version (installed: 0.3.5), please consider upgrading to the latest version (0.3.6).\n",
            "Downloading from https://www.kaggle.com/api/v1/datasets/download/ricardosalvatorelli1/paddydoctor?dataset_version_number=1...\n"
          ]
        },
        {
          "output_type": "stream",
          "name": "stderr",
          "text": [
            "100%|██████████| 1.02G/1.02G [00:46<00:00, 23.4MB/s]"
          ]
        },
        {
          "output_type": "stream",
          "name": "stdout",
          "text": [
            "Extracting files...\n"
          ]
        },
        {
          "output_type": "stream",
          "name": "stderr",
          "text": [
            "\n"
          ]
        },
        {
          "output_type": "stream",
          "name": "stdout",
          "text": [
            "Path to dataset files: /root/.cache/kagglehub/datasets/ricardosalvatorelli1/paddydoctor/versions/1\n"
          ]
        }
      ]
    },
    {
      "cell_type": "code",
      "source": [
        "import os\n",
        "import shutil\n",
        "from pathlib import Path\n",
        "\n",
        "# Paths\n",
        "source_folder = '/root/.cache/kagglehub/datasets/ricardosalvatorelli1/paddydoctor/versions/1/train_images'  # Replace with your source dataset folder\n",
        "destination_folder =\"test_images\"\n",
        "images_per_class = 50  # Number of images to copy per class\n",
        "\n",
        "# Create the destination folder\n",
        "os.makedirs(destination_folder, exist_ok=True)\n",
        "\n",
        "# Iterate through each class folder\n",
        "for class_name in os.listdir(source_folder):\n",
        "    class_path = os.path.join(source_folder, class_name)\n",
        "    if os.path.isdir(class_path):  # Check if it's a folder\n",
        "        # Create a corresponding folder in the destination\n",
        "        dest_class_folder = os.path.join(destination_folder, class_name)\n",
        "        os.makedirs(dest_class_folder, exist_ok=True)\n",
        "\n",
        "        # Get all image files in the class folder\n",
        "        images = [f for f in os.listdir(class_path) if os.path.isfile(os.path.join(class_path, f))]\n",
        "\n",
        "        # Sort images to maintain order and select the first 50\n",
        "        selected_images = images[:images_per_class]\n",
        "\n",
        "        # Copy selected images to the destination folder\n",
        "        for img_name in selected_images:\n",
        "            src = os.path.join(class_path, img_name)\n",
        "            dest = os.path.join(dest_class_folder, img_name)\n",
        "            shutil.copy(src, dest)\n",
        "\n",
        "print(f\"Test dataset created successfully in '{destination_folder}'\")\n"
      ],
      "metadata": {
        "colab": {
          "base_uri": "https://localhost:8080/"
        },
        "id": "5w_JgIr8poMQ",
        "outputId": "72945553-e29b-4372-a75a-d2e7a77a62b5"
      },
      "id": "5w_JgIr8poMQ",
      "execution_count": 2,
      "outputs": [
        {
          "output_type": "stream",
          "name": "stdout",
          "text": [
            "Test dataset created successfully in 'test_images'\n"
          ]
        }
      ]
    },
    {
      "cell_type": "code",
      "execution_count": 3,
      "id": "812a43e1",
      "metadata": {
        "execution": {
          "iopub.execute_input": "2022-07-18T06:16:20.385393Z",
          "iopub.status.busy": "2022-07-18T06:16:20.384532Z",
          "iopub.status.idle": "2022-07-18T06:16:29.865697Z",
          "shell.execute_reply": "2022-07-18T06:16:29.864102Z"
        },
        "papermill": {
          "duration": 9.489942,
          "end_time": "2022-07-18T06:16:29.868259",
          "exception": false,
          "start_time": "2022-07-18T06:16:20.378317",
          "status": "completed"
        },
        "tags": [],
        "colab": {
          "base_uri": "https://localhost:8080/"
        },
        "id": "812a43e1",
        "outputId": "80b06323-6079-411d-b2d9-fc390b53eb79"
      },
      "outputs": [
        {
          "output_type": "stream",
          "name": "stdout",
          "text": [
            "1739\t/root/.cache/kagglehub/datasets/ricardosalvatorelli1/paddydoctor/versions/1/train_images/blast\n",
            "338\t/root/.cache/kagglehub/datasets/ricardosalvatorelli1/paddydoctor/versions/1/train_images/bacterial_panicle_blight\n",
            "966\t/root/.cache/kagglehub/datasets/ricardosalvatorelli1/paddydoctor/versions/1/train_images/brown_spot\n",
            "1089\t/root/.cache/kagglehub/datasets/ricardosalvatorelli1/paddydoctor/versions/1/train_images/tungro\n",
            "1765\t/root/.cache/kagglehub/datasets/ricardosalvatorelli1/paddydoctor/versions/1/train_images/normal\n",
            "1443\t/root/.cache/kagglehub/datasets/ricardosalvatorelli1/paddydoctor/versions/1/train_images/dead_heart\n",
            "381\t/root/.cache/kagglehub/datasets/ricardosalvatorelli1/paddydoctor/versions/1/train_images/bacterial_leaf_streak\n",
            "1595\t/root/.cache/kagglehub/datasets/ricardosalvatorelli1/paddydoctor/versions/1/train_images/hispa\n",
            "480\t/root/.cache/kagglehub/datasets/ricardosalvatorelli1/paddydoctor/versions/1/train_images/bacterial_leaf_blight\n",
            "621\t/root/.cache/kagglehub/datasets/ricardosalvatorelli1/paddydoctor/versions/1/train_images/downy_mildew\n",
            "10418\t/root/.cache/kagglehub/datasets/ricardosalvatorelli1/paddydoctor/versions/1/train_images\n",
            "51\ttest_images/blast\n",
            "51\ttest_images/bacterial_panicle_blight\n",
            "51\ttest_images/brown_spot\n",
            "51\ttest_images/tungro\n",
            "51\ttest_images/normal\n",
            "51\ttest_images/dead_heart\n",
            "51\ttest_images/bacterial_leaf_streak\n",
            "51\ttest_images/hispa\n",
            "51\ttest_images/bacterial_leaf_blight\n",
            "51\ttest_images/downy_mildew\n",
            "511\ttest_images\n",
            "1738 \t blast\n",
            "337 \t bacterial_panicle_blight\n",
            "965 \t brown_spot\n",
            "1088 \t tungro\n",
            "1764 \t normal\n",
            "1442 \t dead_heart\n",
            "380 \t bacterial_leaf_streak\n",
            "1594 \t hispa\n",
            "479 \t bacterial_leaf_blight\n",
            "620 \t downy_mildew\n",
            "10 \t test_images\n"
          ]
        }
      ],
      "source": [
        "train_path = '/root/.cache/kagglehub/datasets/ricardosalvatorelli1/paddydoctor/versions/1/train_images'\n",
        "test_path  = \"test_images\"\n",
        "\n",
        "!du --inodes '/root/.cache/kagglehub/datasets/ricardosalvatorelli1/paddydoctor/versions/1/train_images'\n",
        "!du --inodes \"test_images\"\n",
        "\n",
        "import glob\n",
        "from pathlib import Path\n",
        "\n",
        "for filepath in glob.glob(train_path + '/*/'):\n",
        "    files = glob.glob(filepath + '*')\n",
        "    print(f\"{len(files)} \\t {Path(filepath).name}\")\n",
        "\n",
        "files = glob.glob(test_path + '/*')\n",
        "print(f\"{len(files)} \\t {Path(test_path).name}\")"
      ]
    },
    {
      "cell_type": "code",
      "execution_count": 4,
      "id": "6858d223",
      "metadata": {
        "execution": {
          "iopub.execute_input": "2022-07-18T06:16:29.879437Z",
          "iopub.status.busy": "2022-07-18T06:16:29.878799Z",
          "iopub.status.idle": "2022-07-18T06:16:37.268917Z",
          "shell.execute_reply": "2022-07-18T06:16:37.267856Z"
        },
        "papermill": {
          "duration": 7.397828,
          "end_time": "2022-07-18T06:16:37.271004",
          "exception": false,
          "start_time": "2022-07-18T06:16:29.873176",
          "status": "completed"
        },
        "tags": [],
        "colab": {
          "base_uri": "https://localhost:8080/"
        },
        "id": "6858d223",
        "outputId": "220b9423-cfac-4c72-ca76-d6cf334a4d47"
      },
      "outputs": [
        {
          "output_type": "stream",
          "name": "stdout",
          "text": [
            "10\n"
          ]
        }
      ],
      "source": [
        "import numpy as np\n",
        "import pandas as pd\n",
        "import pickle\n",
        "import cv2\n",
        "import os\n",
        "\n",
        "from os import listdir\n",
        "from sklearn.preprocessing import LabelBinarizer\n",
        "from tensorflow.keras.models import Sequential\n",
        "\n",
        "from tensorflow.keras.layers import BatchNormalization\n",
        "from tensorflow.keras.layers import Conv2D\n",
        "from tensorflow.keras.layers import MaxPooling2D\n",
        "from tensorflow.keras.layers import Activation, Flatten, Dropout, Dense\n",
        "from keras import backend as K\n",
        "from tensorflow.keras.preprocessing.image import ImageDataGenerator\n",
        "from tensorflow.keras.optimizers import Adam\n",
        "from tensorflow.keras.utils import plot_model\n",
        "\n",
        "from keras.preprocessing import image\n",
        "from keras.preprocessing.image import img_to_array\n",
        "from sklearn.preprocessing import MultiLabelBinarizer\n",
        "from sklearn.model_selection import train_test_split\n",
        "import matplotlib.pyplot as plt\n",
        "\n",
        "import keras\n",
        "keras.__version__\n",
        "from psutil import virtual_memory\n",
        "\n",
        "SEED = 123\n",
        "EPOCHS = 100\n",
        "INIT_LR = 1e-3\n",
        "BS = 32\n",
        "default_image_size = tuple((256, 256))\n",
        "image_size = 0\n",
        "width = 256\n",
        "height = 256\n",
        "depth = 3\n",
        "\n",
        "n_classes = len(glob.glob(train_path + '/*/'))\n",
        "print(n_classes)"
      ]
    },
    {
      "cell_type": "code",
      "execution_count": 5,
      "id": "02c8b426",
      "metadata": {
        "execution": {
          "iopub.execute_input": "2022-07-18T06:16:37.281575Z",
          "iopub.status.busy": "2022-07-18T06:16:37.281052Z",
          "iopub.status.idle": "2022-07-18T06:16:42.072426Z",
          "shell.execute_reply": "2022-07-18T06:16:42.066748Z"
        },
        "papermill": {
          "duration": 4.805817,
          "end_time": "2022-07-18T06:16:42.081441",
          "exception": false,
          "start_time": "2022-07-18T06:16:37.275624",
          "status": "completed"
        },
        "tags": [],
        "colab": {
          "base_uri": "https://localhost:8080/"
        },
        "id": "02c8b426",
        "outputId": "650c3b18-608b-4a68-8ffa-15ca34c49054"
      },
      "outputs": [
        {
          "output_type": "stream",
          "name": "stdout",
          "text": [
            "channels_last\n"
          ]
        },
        {
          "output_type": "stream",
          "name": "stderr",
          "text": [
            "/usr/local/lib/python3.10/dist-packages/keras/src/layers/convolutional/base_conv.py:107: UserWarning: Do not pass an `input_shape`/`input_dim` argument to a layer. When using Sequential models, prefer using an `Input(shape)` object as the first layer in the model instead.\n",
            "  super().__init__(activity_regularizer=activity_regularizer, **kwargs)\n",
            "/usr/local/lib/python3.10/dist-packages/keras/src/optimizers/base_optimizer.py:33: UserWarning: Argument `decay` is no longer supported and will be ignored.\n",
            "  warnings.warn(\n"
          ]
        }
      ],
      "source": [
        "def get_model():\n",
        "    model = Sequential()\n",
        "    inputShape = (height, width, depth)\n",
        "    chanDim = -1\n",
        "    print(K.image_data_format())\n",
        "    if K.image_data_format() == \"channels_first\":\n",
        "        inputShape = (depth, height, width)\n",
        "        chanDim = 1\n",
        "    model.add(Conv2D(32, (3, 3), padding=\"same\",input_shape=inputShape))\n",
        "    model.add(Activation(\"relu\"))\n",
        "    model.add(BatchNormalization(axis=chanDim))\n",
        "    model.add(MaxPooling2D(pool_size=(3, 3)))\n",
        "    model.add(Dropout(0.25))\n",
        "    model.add(Conv2D(64, (3, 3), padding=\"same\"))\n",
        "    model.add(Activation(\"relu\"))\n",
        "    model.add(BatchNormalization(axis=chanDim))\n",
        "    model.add(Conv2D(64, (3, 3), padding=\"same\"))\n",
        "    model.add(Activation(\"relu\"))\n",
        "    model.add(BatchNormalization(axis=chanDim))\n",
        "    model.add(MaxPooling2D(pool_size=(2, 2)))\n",
        "    model.add(Dropout(0.25))\n",
        "    model.add(Conv2D(128, (3, 3), padding=\"same\"))\n",
        "    model.add(Activation(\"relu\"))\n",
        "    model.add(BatchNormalization(axis=chanDim))\n",
        "    model.add(Conv2D(128, (3, 3), padding=\"same\"))\n",
        "    model.add(Activation(\"relu\"))\n",
        "    model.add(BatchNormalization(axis=chanDim))\n",
        "    model.add(MaxPooling2D(pool_size=(2, 2)))\n",
        "    model.add(Dropout(0.25))\n",
        "    model.add(Flatten())\n",
        "    model.add(Dense(1024))\n",
        "    model.add(Activation(\"relu\"))\n",
        "    model.add(BatchNormalization())\n",
        "    model.add(Dropout(0.5))\n",
        "    model.add(Dense(n_classes))\n",
        "    model.add(Activation(\"softmax\"))\n",
        "\n",
        "    opt = Adam(learning_rate=INIT_LR, decay=INIT_LR / EPOCHS)\n",
        "    # distribution\n",
        "    model.compile(loss=\"binary_crossentropy\", optimizer=opt,metrics=[\"accuracy\"])\n",
        "    return model\n",
        "model = get_model()\n",
        "\n",
        "# plot_model(model, '/kaggle/working/model.png', show_shapes=True)"
      ]
    },
    {
      "cell_type": "code",
      "execution_count": 6,
      "id": "de17548d",
      "metadata": {
        "execution": {
          "iopub.execute_input": "2022-07-18T06:16:42.110840Z",
          "iopub.status.busy": "2022-07-18T06:16:42.110470Z",
          "iopub.status.idle": "2022-07-18T06:16:44.200159Z",
          "shell.execute_reply": "2022-07-18T06:16:44.198091Z"
        },
        "papermill": {
          "duration": 2.107289,
          "end_time": "2022-07-18T06:16:44.202773",
          "exception": false,
          "start_time": "2022-07-18T06:16:42.095484",
          "status": "completed"
        },
        "tags": [],
        "colab": {
          "base_uri": "https://localhost:8080/"
        },
        "id": "de17548d",
        "outputId": "91451fa9-9069-481b-d9c2-eb76b6a051ae"
      },
      "outputs": [
        {
          "output_type": "stream",
          "name": "stdout",
          "text": [
            "Found 8330 images belonging to 10 classes.\n",
            "Found 2077 images belonging to 10 classes.\n",
            "Found 500 images belonging to 1 classes.\n",
            "{'bacterial_leaf_blight': 0, 'bacterial_leaf_streak': 1, 'bacterial_panicle_blight': 2, 'blast': 3, 'brown_spot': 4, 'dead_heart': 5, 'downy_mildew': 6, 'hispa': 7, 'normal': 8, 'tungro': 9}\n",
            "500\n"
          ]
        }
      ],
      "source": [
        "image_datagen = ImageDataGenerator(featurewise_center=False,\n",
        "                 samplewise_center=False,\n",
        "                 featurewise_std_normalization=False,\n",
        "                 samplewise_std_normalization=False,\n",
        "                 zca_whitening=False,\n",
        "                 rotation_range=5,\n",
        "                 shear_range=0.2,\n",
        "                 zoom_range=0.2,\n",
        "                 width_shift_range=0.05,\n",
        "                 height_shift_range=0.05,\n",
        "                 channel_shift_range=0.,\n",
        "                 fill_mode='nearest',\n",
        "                 horizontal_flip=True,\n",
        "                 vertical_flip=False,\n",
        "                 rescale=1./255,\n",
        "                                   validation_split=0.2)\n",
        "\n",
        "train_generator = image_datagen.flow_from_directory(\n",
        "    directory = train_path,\n",
        "    subset='training',\n",
        "    target_size=(256, 256),\n",
        "    color_mode=\"rgb\",\n",
        "    batch_size=32,\n",
        "    class_mode=\"categorical\",\n",
        "    shuffle=True,\n",
        "    seed=SEED)\n",
        "\n",
        "valid_generator = image_datagen.flow_from_directory(\n",
        "    directory=train_path,\n",
        "    subset='validation',\n",
        "    target_size=(256, 256),\n",
        "    color_mode=\"rgb\",\n",
        "    batch_size=32,\n",
        "    class_mode=\"categorical\",\n",
        "    shuffle=True,\n",
        "    seed=SEED)\n",
        "\n",
        "test_generator = ImageDataGenerator(rescale=1./255).flow_from_directory(\n",
        "    directory=test_path,\n",
        "    target_size=(256, 256),\n",
        "    color_mode=\"rgb\",\n",
        "    batch_size=1,\n",
        "    classes=['.'],\n",
        "    class_mode=None,\n",
        "    shuffle=False,\n",
        "    seed=SEED)\n",
        "\n",
        "print(train_generator.class_indices)\n",
        "print(test_generator.samples)"
      ]
    },
    {
      "cell_type": "code",
      "execution_count": 7,
      "id": "087065f2",
      "metadata": {
        "execution": {
          "iopub.execute_input": "2022-07-18T06:16:44.222902Z",
          "iopub.status.busy": "2022-07-18T06:16:44.222348Z",
          "iopub.status.idle": "2022-07-18T13:17:20.421691Z",
          "shell.execute_reply": "2022-07-18T13:17:20.420703Z"
        },
        "papermill": {
          "duration": 25238.266295,
          "end_time": "2022-07-18T13:17:22.478888",
          "exception": false,
          "start_time": "2022-07-18T06:16:44.212593",
          "status": "completed"
        },
        "tags": [],
        "colab": {
          "base_uri": "https://localhost:8080/"
        },
        "id": "087065f2",
        "outputId": "ae245204-b78a-4a3c-85c1-09782808a3d4"
      },
      "outputs": [
        {
          "output_type": "stream",
          "name": "stdout",
          "text": [
            "Epoch 1/100\n"
          ]
        },
        {
          "output_type": "stream",
          "name": "stderr",
          "text": [
            "/usr/local/lib/python3.10/dist-packages/keras/src/trainers/data_adapters/py_dataset_adapter.py:122: UserWarning: Your `PyDataset` class should call `super().__init__(**kwargs)` in its constructor. `**kwargs` can include `workers`, `use_multiprocessing`, `max_queue_size`. Do not pass these arguments to `fit()`, as they will be ignored.\n",
            "  self._warn_if_super_not_called()\n"
          ]
        },
        {
          "output_type": "stream",
          "name": "stdout",
          "text": [
            "\u001b[1m260/260\u001b[0m \u001b[32m━━━━━━━━━━━━━━━━━━━━\u001b[0m\u001b[37m\u001b[0m \u001b[1m213s\u001b[0m 740ms/step - accuracy: 0.2586 - loss: 0.5438 - val_accuracy: 0.0835 - val_loss: 0.5984\n",
            "Epoch 2/100\n",
            "\u001b[1m  1/260\u001b[0m \u001b[37m━━━━━━━━━━━━━━━━━━━━\u001b[0m \u001b[1m28s\u001b[0m 111ms/step - accuracy: 0.1875 - loss: 0.4161"
          ]
        },
        {
          "output_type": "stream",
          "name": "stderr",
          "text": [
            "/usr/lib/python3.10/contextlib.py:153: UserWarning: Your input ran out of data; interrupting training. Make sure that your dataset or generator can generate at least `steps_per_epoch * epochs` batches. You may need to use the `.repeat()` function when building your dataset.\n",
            "  self.gen.throw(typ, value, traceback)\n"
          ]
        },
        {
          "output_type": "stream",
          "name": "stdout",
          "text": [
            "\b\b\b\b\b\b\b\b\b\b\b\b\b\b\b\b\b\b\b\b\b\b\b\b\b\b\b\b\b\b\b\b\b\b\b\b\b\b\b\b\b\b\b\b\b\b\b\b\b\b\b\b\b\b\b\b\b\b\b\b\b\b\b\b\b\b\b\b\b\b\b\b\b\b\b\b\b\r\u001b[1m260/260\u001b[0m \u001b[32m━━━━━━━━━━━━━━━━━━━━\u001b[0m\u001b[37m\u001b[0m \u001b[1m3s\u001b[0m 9ms/step - accuracy: 0.1875 - loss: 0.4161 - val_accuracy: 0.0690 - val_loss: 1.6241\n",
            "Epoch 3/100\n",
            "\u001b[1m260/260\u001b[0m \u001b[32m━━━━━━━━━━━━━━━━━━━━\u001b[0m\u001b[37m\u001b[0m \u001b[1m182s\u001b[0m 688ms/step - accuracy: 0.3291 - loss: 0.3552 - val_accuracy: 0.3862 - val_loss: 0.3125\n",
            "Epoch 4/100\n",
            "\u001b[1m260/260\u001b[0m \u001b[32m━━━━━━━━━━━━━━━━━━━━\u001b[0m\u001b[37m\u001b[0m \u001b[1m1s\u001b[0m 2ms/step - accuracy: 0.6250 - loss: 0.2246 - val_accuracy: 0.3103 - val_loss: 0.3292\n",
            "Epoch 5/100\n",
            "\u001b[1m260/260\u001b[0m \u001b[32m━━━━━━━━━━━━━━━━━━━━\u001b[0m\u001b[37m\u001b[0m \u001b[1m203s\u001b[0m 690ms/step - accuracy: 0.4774 - loss: 0.2720 - val_accuracy: 0.4873 - val_loss: 0.2584\n",
            "Epoch 6/100\n",
            "\u001b[1m260/260\u001b[0m \u001b[32m━━━━━━━━━━━━━━━━━━━━\u001b[0m\u001b[37m\u001b[0m \u001b[1m1s\u001b[0m 2ms/step - accuracy: 0.5000 - loss: 0.2837 - val_accuracy: 0.5172 - val_loss: 0.2595\n",
            "Epoch 7/100\n",
            "\u001b[1m260/260\u001b[0m \u001b[32m━━━━━━━━━━━━━━━━━━━━\u001b[0m\u001b[37m\u001b[0m \u001b[1m182s\u001b[0m 687ms/step - accuracy: 0.5789 - loss: 0.2223 - val_accuracy: 0.4990 - val_loss: 0.2612\n",
            "Epoch 8/100\n",
            "\u001b[1m260/260\u001b[0m \u001b[32m━━━━━━━━━━━━━━━━━━━━\u001b[0m\u001b[37m\u001b[0m \u001b[1m7s\u001b[0m 27ms/step - accuracy: 0.5312 - loss: 0.2423 - val_accuracy: 0.6207 - val_loss: 0.2476\n",
            "Epoch 9/100\n",
            "\u001b[1m260/260\u001b[0m \u001b[32m━━━━━━━━━━━━━━━━━━━━\u001b[0m\u001b[37m\u001b[0m \u001b[1m182s\u001b[0m 688ms/step - accuracy: 0.6228 - loss: 0.2024 - val_accuracy: 0.1738 - val_loss: 0.6882\n",
            "Epoch 10/100\n",
            "\u001b[1m260/260\u001b[0m \u001b[32m━━━━━━━━━━━━━━━━━━━━\u001b[0m\u001b[37m\u001b[0m \u001b[1m0s\u001b[0m 1ms/step - accuracy: 0.5312 - loss: 0.2274 - val_accuracy: 0.0690 - val_loss: 0.5486\n",
            "Epoch 11/100\n",
            "\u001b[1m260/260\u001b[0m \u001b[32m━━━━━━━━━━━━━━━━━━━━\u001b[0m\u001b[37m\u001b[0m \u001b[1m180s\u001b[0m 681ms/step - accuracy: 0.6552 - loss: 0.1853 - val_accuracy: 0.5713 - val_loss: 0.2084\n",
            "Epoch 12/100\n",
            "\u001b[1m260/260\u001b[0m \u001b[32m━━━━━━━━━━━━━━━━━━━━\u001b[0m\u001b[37m\u001b[0m \u001b[1m0s\u001b[0m 1ms/step - accuracy: 0.6875 - loss: 0.1512 - val_accuracy: 0.4138 - val_loss: 0.2183\n",
            "Epoch 13/100\n",
            "\u001b[1m260/260\u001b[0m \u001b[32m━━━━━━━━━━━━━━━━━━━━\u001b[0m\u001b[37m\u001b[0m \u001b[1m183s\u001b[0m 686ms/step - accuracy: 0.6891 - loss: 0.1656 - val_accuracy: 0.4111 - val_loss: 0.3317\n",
            "Epoch 14/100\n",
            "\u001b[1m260/260\u001b[0m \u001b[32m━━━━━━━━━━━━━━━━━━━━\u001b[0m\u001b[37m\u001b[0m \u001b[1m1s\u001b[0m 2ms/step - accuracy: 0.7188 - loss: 0.1752 - val_accuracy: 0.4138 - val_loss: 0.3263\n",
            "Epoch 15/100\n",
            "\u001b[1m260/260\u001b[0m \u001b[32m━━━━━━━━━━━━━━━━━━━━\u001b[0m\u001b[37m\u001b[0m \u001b[1m198s\u001b[0m 679ms/step - accuracy: 0.7044 - loss: 0.1617 - val_accuracy: 0.5645 - val_loss: 0.2324\n",
            "Epoch 16/100\n",
            "\u001b[1m260/260\u001b[0m \u001b[32m━━━━━━━━━━━━━━━━━━━━\u001b[0m\u001b[37m\u001b[0m \u001b[1m0s\u001b[0m 1ms/step - accuracy: 0.7500 - loss: 0.1423 - val_accuracy: 0.4138 - val_loss: 0.2908\n",
            "Epoch 17/100\n",
            "\u001b[1m260/260\u001b[0m \u001b[32m━━━━━━━━━━━━━━━━━━━━\u001b[0m\u001b[37m\u001b[0m \u001b[1m192s\u001b[0m 719ms/step - accuracy: 0.7416 - loss: 0.1456 - val_accuracy: 0.6924 - val_loss: 0.1678\n",
            "Epoch 18/100\n",
            "\u001b[1m260/260\u001b[0m \u001b[32m━━━━━━━━━━━━━━━━━━━━\u001b[0m\u001b[37m\u001b[0m \u001b[1m1s\u001b[0m 3ms/step - accuracy: 0.8438 - loss: 0.0954 - val_accuracy: 0.8276 - val_loss: 0.1408\n",
            "Epoch 19/100\n",
            "\u001b[1m260/260\u001b[0m \u001b[32m━━━━━━━━━━━━━━━━━━━━\u001b[0m\u001b[37m\u001b[0m \u001b[1m191s\u001b[0m 679ms/step - accuracy: 0.7857 - loss: 0.1268 - val_accuracy: 0.6924 - val_loss: 0.1655\n",
            "Epoch 20/100\n",
            "\u001b[1m260/260\u001b[0m \u001b[32m━━━━━━━━━━━━━━━━━━━━\u001b[0m\u001b[37m\u001b[0m \u001b[1m1s\u001b[0m 2ms/step - accuracy: 0.8750 - loss: 0.1006 - val_accuracy: 0.7586 - val_loss: 0.1709\n",
            "Epoch 21/100\n",
            "\u001b[1m260/260\u001b[0m \u001b[32m━━━━━━━━━━━━━━━━━━━━\u001b[0m\u001b[37m\u001b[0m \u001b[1m200s\u001b[0m 681ms/step - accuracy: 0.7929 - loss: 0.1192 - val_accuracy: 0.6001 - val_loss: 0.2556\n",
            "Epoch 22/100\n",
            "\u001b[1m260/260\u001b[0m \u001b[32m━━━━━━━━━━━━━━━━━━━━\u001b[0m\u001b[37m\u001b[0m \u001b[1m0s\u001b[0m 1ms/step - accuracy: 0.7812 - loss: 0.1165 - val_accuracy: 0.5517 - val_loss: 0.2160\n",
            "Epoch 23/100\n",
            "\u001b[1m260/260\u001b[0m \u001b[32m━━━━━━━━━━━━━━━━━━━━\u001b[0m\u001b[37m\u001b[0m \u001b[1m182s\u001b[0m 687ms/step - accuracy: 0.7940 - loss: 0.1184 - val_accuracy: 0.7285 - val_loss: 0.1432\n",
            "Epoch 24/100\n",
            "\u001b[1m260/260\u001b[0m \u001b[32m━━━━━━━━━━━━━━━━━━━━\u001b[0m\u001b[37m\u001b[0m \u001b[1m0s\u001b[0m 1ms/step - accuracy: 0.8438 - loss: 0.0732 - val_accuracy: 0.7241 - val_loss: 0.1218\n",
            "Epoch 25/100\n",
            "\u001b[1m260/260\u001b[0m \u001b[32m━━━━━━━━━━━━━━━━━━━━\u001b[0m\u001b[37m\u001b[0m \u001b[1m201s\u001b[0m 683ms/step - accuracy: 0.8139 - loss: 0.1127 - val_accuracy: 0.4355 - val_loss: 0.3742\n",
            "Epoch 26/100\n",
            "\u001b[1m260/260\u001b[0m \u001b[32m━━━━━━━━━━━━━━━━━━━━\u001b[0m\u001b[37m\u001b[0m \u001b[1m0s\u001b[0m 1ms/step - accuracy: 0.8125 - loss: 0.1347 - val_accuracy: 0.4483 - val_loss: 0.3069\n",
            "Epoch 27/100\n",
            "\u001b[1m260/260\u001b[0m \u001b[32m━━━━━━━━━━━━━━━━━━━━\u001b[0m\u001b[37m\u001b[0m \u001b[1m200s\u001b[0m 685ms/step - accuracy: 0.7852 - loss: 0.1247 - val_accuracy: 0.5859 - val_loss: 0.2434\n",
            "Epoch 28/100\n",
            "\u001b[1m260/260\u001b[0m \u001b[32m━━━━━━━━━━━━━━━━━━━━\u001b[0m\u001b[37m\u001b[0m \u001b[1m6s\u001b[0m 24ms/step - accuracy: 0.8750 - loss: 0.0797 - val_accuracy: 0.6897 - val_loss: 0.1825\n",
            "Epoch 29/100\n",
            "\u001b[1m260/260\u001b[0m \u001b[32m━━━━━━━━━━━━━━━━━━━━\u001b[0m\u001b[37m\u001b[0m \u001b[1m196s\u001b[0m 687ms/step - accuracy: 0.8474 - loss: 0.0952 - val_accuracy: 0.7915 - val_loss: 0.1270\n",
            "Epoch 30/100\n",
            "\u001b[1m260/260\u001b[0m \u001b[32m━━━━━━━━━━━━━━━━━━━━\u001b[0m\u001b[37m\u001b[0m \u001b[1m1s\u001b[0m 3ms/step - accuracy: 0.8438 - loss: 0.0943 - val_accuracy: 0.7931 - val_loss: 0.1534\n",
            "Epoch 31/100\n",
            "\u001b[1m260/260\u001b[0m \u001b[32m━━━━━━━━━━━━━━━━━━━━\u001b[0m\u001b[37m\u001b[0m \u001b[1m201s\u001b[0m 685ms/step - accuracy: 0.8398 - loss: 0.0972 - val_accuracy: 0.8340 - val_loss: 0.1034\n",
            "Epoch 32/100\n",
            "\u001b[1m260/260\u001b[0m \u001b[32m━━━━━━━━━━━━━━━━━━━━\u001b[0m\u001b[37m\u001b[0m \u001b[1m0s\u001b[0m 1ms/step - accuracy: 0.8438 - loss: 0.1029 - val_accuracy: 0.8966 - val_loss: 0.0724\n",
            "Epoch 33/100\n",
            "\u001b[1m260/260\u001b[0m \u001b[32m━━━━━━━━━━━━━━━━━━━━\u001b[0m\u001b[37m\u001b[0m \u001b[1m201s\u001b[0m 682ms/step - accuracy: 0.7611 - loss: 0.1378 - val_accuracy: 0.7637 - val_loss: 0.1452\n",
            "Epoch 34/100\n",
            "\u001b[1m260/260\u001b[0m \u001b[32m━━━━━━━━━━━━━━━━━━━━\u001b[0m\u001b[37m\u001b[0m \u001b[1m0s\u001b[0m 1ms/step - accuracy: 0.9375 - loss: 0.0707 - val_accuracy: 0.7586 - val_loss: 0.1422\n",
            "Epoch 35/100\n",
            "\u001b[1m260/260\u001b[0m \u001b[32m━━━━━━━━━━━━━━━━━━━━\u001b[0m\u001b[37m\u001b[0m \u001b[1m200s\u001b[0m 681ms/step - accuracy: 0.8044 - loss: 0.1165 - val_accuracy: 0.3965 - val_loss: 0.6333\n",
            "Epoch 36/100\n",
            "\u001b[1m260/260\u001b[0m \u001b[32m━━━━━━━━━━━━━━━━━━━━\u001b[0m\u001b[37m\u001b[0m \u001b[1m0s\u001b[0m 2ms/step - accuracy: 0.9375 - loss: 0.0724 - val_accuracy: 0.3448 - val_loss: 0.5715\n",
            "Epoch 37/100\n",
            "\u001b[1m260/260\u001b[0m \u001b[32m━━━━━━━━━━━━━━━━━━━━\u001b[0m\u001b[37m\u001b[0m \u001b[1m182s\u001b[0m 684ms/step - accuracy: 0.8292 - loss: 0.1019 - val_accuracy: 0.5068 - val_loss: 0.3322\n",
            "Epoch 38/100\n",
            "\u001b[1m260/260\u001b[0m \u001b[32m━━━━━━━━━━━━━━━━━━━━\u001b[0m\u001b[37m\u001b[0m \u001b[1m0s\u001b[0m 1ms/step - accuracy: 0.8125 - loss: 0.1247 - val_accuracy: 0.3793 - val_loss: 0.5641\n",
            "Epoch 39/100\n",
            "\u001b[1m260/260\u001b[0m \u001b[32m━━━━━━━━━━━━━━━━━━━━\u001b[0m\u001b[37m\u001b[0m \u001b[1m201s\u001b[0m 684ms/step - accuracy: 0.7889 - loss: 0.1233 - val_accuracy: 0.6826 - val_loss: 0.1777\n",
            "Epoch 40/100\n",
            "\u001b[1m260/260\u001b[0m \u001b[32m━━━━━━━━━━━━━━━━━━━━\u001b[0m\u001b[37m\u001b[0m \u001b[1m0s\u001b[0m 1ms/step - accuracy: 0.8125 - loss: 0.1012 - val_accuracy: 0.5862 - val_loss: 0.2672\n",
            "Epoch 41/100\n",
            "\u001b[1m260/260\u001b[0m \u001b[32m━━━━━━━━━━━━━━━━━━━━\u001b[0m\u001b[37m\u001b[0m \u001b[1m200s\u001b[0m 680ms/step - accuracy: 0.8240 - loss: 0.1062 - val_accuracy: 0.5605 - val_loss: 0.2639\n",
            "Epoch 42/100\n",
            "\u001b[1m260/260\u001b[0m \u001b[32m━━━━━━━━━━━━━━━━━━━━\u001b[0m\u001b[37m\u001b[0m \u001b[1m8s\u001b[0m 29ms/step - accuracy: 0.7500 - loss: 0.1350 - val_accuracy: 0.6897 - val_loss: 0.2464\n",
            "Epoch 43/100\n",
            "\u001b[1m260/260\u001b[0m \u001b[32m━━━━━━━━━━━━━━━━━━━━\u001b[0m\u001b[37m\u001b[0m \u001b[1m196s\u001b[0m 687ms/step - accuracy: 0.8653 - loss: 0.0863 - val_accuracy: 0.8071 - val_loss: 0.1157\n",
            "Epoch 44/100\n",
            "\u001b[1m260/260\u001b[0m \u001b[32m━━━━━━━━━━━━━━━━━━━━\u001b[0m\u001b[37m\u001b[0m \u001b[1m0s\u001b[0m 1ms/step - accuracy: 0.8750 - loss: 0.0571 - val_accuracy: 0.7241 - val_loss: 0.1815\n",
            "Epoch 45/100\n",
            "\u001b[1m260/260\u001b[0m \u001b[32m━━━━━━━━━━━━━━━━━━━━\u001b[0m\u001b[37m\u001b[0m \u001b[1m207s\u001b[0m 703ms/step - accuracy: 0.8769 - loss: 0.0804 - val_accuracy: 0.8403 - val_loss: 0.1032\n",
            "Epoch 46/100\n",
            "\u001b[1m260/260\u001b[0m \u001b[32m━━━━━━━━━━━━━━━━━━━━\u001b[0m\u001b[37m\u001b[0m \u001b[1m1s\u001b[0m 2ms/step - accuracy: 0.8125 - loss: 0.1282 - val_accuracy: 0.8966 - val_loss: 0.0795\n",
            "Epoch 47/100\n",
            "\u001b[1m260/260\u001b[0m \u001b[32m━━━━━━━━━━━━━━━━━━━━\u001b[0m\u001b[37m\u001b[0m \u001b[1m199s\u001b[0m 691ms/step - accuracy: 0.8661 - loss: 0.0870 - val_accuracy: 0.6660 - val_loss: 0.1911\n",
            "Epoch 48/100\n",
            "\u001b[1m260/260\u001b[0m \u001b[32m━━━━━━━━━━━━━━━━━━━━\u001b[0m\u001b[37m\u001b[0m \u001b[1m1s\u001b[0m 2ms/step - accuracy: 0.6562 - loss: 0.1605 - val_accuracy: 0.6897 - val_loss: 0.2312\n",
            "Epoch 49/100\n",
            "\u001b[1m260/260\u001b[0m \u001b[32m━━━━━━━━━━━━━━━━━━━━\u001b[0m\u001b[37m\u001b[0m \u001b[1m191s\u001b[0m 717ms/step - accuracy: 0.8639 - loss: 0.0857 - val_accuracy: 0.8828 - val_loss: 0.0878\n",
            "Epoch 50/100\n",
            "\u001b[1m260/260\u001b[0m \u001b[32m━━━━━━━━━━━━━━━━━━━━\u001b[0m\u001b[37m\u001b[0m \u001b[1m8s\u001b[0m 31ms/step - accuracy: 0.7500 - loss: 0.1148 - val_accuracy: 0.8621 - val_loss: 0.0614\n",
            "Epoch 51/100\n",
            "\u001b[1m260/260\u001b[0m \u001b[32m━━━━━━━━━━━━━━━━━━━━\u001b[0m\u001b[37m\u001b[0m \u001b[1m182s\u001b[0m 687ms/step - accuracy: 0.8930 - loss: 0.0724 - val_accuracy: 0.4204 - val_loss: 0.4410\n",
            "Epoch 52/100\n",
            "\u001b[1m260/260\u001b[0m \u001b[32m━━━━━━━━━━━━━━━━━━━━\u001b[0m\u001b[37m\u001b[0m \u001b[1m1s\u001b[0m 3ms/step - accuracy: 0.8750 - loss: 0.1089 - val_accuracy: 0.4828 - val_loss: 0.4690\n",
            "Epoch 53/100\n",
            "\u001b[1m260/260\u001b[0m \u001b[32m━━━━━━━━━━━━━━━━━━━━\u001b[0m\u001b[37m\u001b[0m \u001b[1m180s\u001b[0m 679ms/step - accuracy: 0.8724 - loss: 0.0837 - val_accuracy: 0.8242 - val_loss: 0.1148\n",
            "Epoch 54/100\n",
            "\u001b[1m260/260\u001b[0m \u001b[32m━━━━━━━━━━━━━━━━━━━━\u001b[0m\u001b[37m\u001b[0m \u001b[1m0s\u001b[0m 1ms/step - accuracy: 0.8125 - loss: 0.0968 - val_accuracy: 0.8276 - val_loss: 0.1072\n",
            "Epoch 55/100\n",
            "\u001b[1m260/260\u001b[0m \u001b[32m━━━━━━━━━━━━━━━━━━━━\u001b[0m\u001b[37m\u001b[0m \u001b[1m181s\u001b[0m 685ms/step - accuracy: 0.8888 - loss: 0.0740 - val_accuracy: 0.8779 - val_loss: 0.0765\n",
            "Epoch 56/100\n",
            "\u001b[1m260/260\u001b[0m \u001b[32m━━━━━━━━━━━━━━━━━━━━\u001b[0m\u001b[37m\u001b[0m \u001b[1m1s\u001b[0m 2ms/step - accuracy: 0.8438 - loss: 0.0956 - val_accuracy: 0.9655 - val_loss: 0.0512\n",
            "Epoch 57/100\n",
            "\u001b[1m260/260\u001b[0m \u001b[32m━━━━━━━━━━━━━━━━━━━━\u001b[0m\u001b[37m\u001b[0m \u001b[1m205s\u001b[0m 695ms/step - accuracy: 0.9103 - loss: 0.0628 - val_accuracy: 0.8018 - val_loss: 0.1368\n",
            "Epoch 58/100\n",
            "\u001b[1m260/260\u001b[0m \u001b[32m━━━━━━━━━━━━━━━━━━━━\u001b[0m\u001b[37m\u001b[0m \u001b[1m1s\u001b[0m 2ms/step - accuracy: 0.8438 - loss: 0.0857 - val_accuracy: 0.9310 - val_loss: 0.0828\n",
            "Epoch 59/100\n",
            "\u001b[1m260/260\u001b[0m \u001b[32m━━━━━━━━━━━━━━━━━━━━\u001b[0m\u001b[37m\u001b[0m \u001b[1m205s\u001b[0m 705ms/step - accuracy: 0.9214 - loss: 0.0579 - val_accuracy: 0.3726 - val_loss: 0.6972\n",
            "Epoch 60/100\n",
            "\u001b[1m260/260\u001b[0m \u001b[32m━━━━━━━━━━━━━━━━━━━━\u001b[0m\u001b[37m\u001b[0m \u001b[1m8s\u001b[0m 30ms/step - accuracy: 0.8125 - loss: 0.0848 - val_accuracy: 0.4828 - val_loss: 0.6069\n",
            "Epoch 61/100\n",
            "\u001b[1m260/260\u001b[0m \u001b[32m━━━━━━━━━━━━━━━━━━━━\u001b[0m\u001b[37m\u001b[0m \u001b[1m186s\u001b[0m 680ms/step - accuracy: 0.8799 - loss: 0.0786 - val_accuracy: 0.3638 - val_loss: 0.6144\n",
            "Epoch 62/100\n",
            "\u001b[1m260/260\u001b[0m \u001b[32m━━━━━━━━━━━━━━━━━━━━\u001b[0m\u001b[37m\u001b[0m \u001b[1m0s\u001b[0m 1ms/step - accuracy: 0.7812 - loss: 0.1362 - val_accuracy: 0.4483 - val_loss: 0.6007\n",
            "Epoch 63/100\n",
            "\u001b[1m260/260\u001b[0m \u001b[32m━━━━━━━━━━━━━━━━━━━━\u001b[0m\u001b[37m\u001b[0m \u001b[1m202s\u001b[0m 684ms/step - accuracy: 0.8615 - loss: 0.0894 - val_accuracy: 0.8438 - val_loss: 0.1247\n",
            "Epoch 64/100\n",
            "\u001b[1m260/260\u001b[0m \u001b[32m━━━━━━━━━━━━━━━━━━━━\u001b[0m\u001b[37m\u001b[0m \u001b[1m1s\u001b[0m 2ms/step - accuracy: 0.8438 - loss: 0.0743 - val_accuracy: 0.8621 - val_loss: 0.0738\n",
            "Epoch 65/100\n",
            "\u001b[1m260/260\u001b[0m \u001b[32m━━━━━━━━━━━━━━━━━━━━\u001b[0m\u001b[37m\u001b[0m \u001b[1m195s\u001b[0m 736ms/step - accuracy: 0.8986 - loss: 0.0682 - val_accuracy: 0.7886 - val_loss: 0.1363\n",
            "Epoch 66/100\n",
            "\u001b[1m260/260\u001b[0m \u001b[32m━━━━━━━━━━━━━━━━━━━━\u001b[0m\u001b[37m\u001b[0m \u001b[1m1s\u001b[0m 2ms/step - accuracy: 0.9688 - loss: 0.0493 - val_accuracy: 0.8966 - val_loss: 0.0759\n",
            "Epoch 67/100\n",
            "\u001b[1m260/260\u001b[0m \u001b[32m━━━━━━━━━━━━━━━━━━━━\u001b[0m\u001b[37m\u001b[0m \u001b[1m196s\u001b[0m 713ms/step - accuracy: 0.8937 - loss: 0.0679 - val_accuracy: 0.8970 - val_loss: 0.0664\n",
            "Epoch 68/100\n",
            "\u001b[1m260/260\u001b[0m \u001b[32m━━━━━━━━━━━━━━━━━━━━\u001b[0m\u001b[37m\u001b[0m \u001b[1m0s\u001b[0m 1ms/step - accuracy: 0.9062 - loss: 0.0548 - val_accuracy: 0.9655 - val_loss: 0.0299\n",
            "Epoch 69/100\n",
            "\u001b[1m260/260\u001b[0m \u001b[32m━━━━━━━━━━━━━━━━━━━━\u001b[0m\u001b[37m\u001b[0m \u001b[1m181s\u001b[0m 681ms/step - accuracy: 0.9102 - loss: 0.0636 - val_accuracy: 0.7627 - val_loss: 0.1622\n",
            "Epoch 70/100\n",
            "\u001b[1m260/260\u001b[0m \u001b[32m━━━━━━━━━━━━━━━━━━━━\u001b[0m\u001b[37m\u001b[0m \u001b[1m0s\u001b[0m 1ms/step - accuracy: 0.9062 - loss: 0.0643 - val_accuracy: 0.7586 - val_loss: 0.1887\n",
            "Epoch 71/100\n",
            "\u001b[1m260/260\u001b[0m \u001b[32m━━━━━━━━━━━━━━━━━━━━\u001b[0m\u001b[37m\u001b[0m \u001b[1m183s\u001b[0m 692ms/step - accuracy: 0.8998 - loss: 0.0661 - val_accuracy: 0.8584 - val_loss: 0.0924\n",
            "Epoch 72/100\n",
            "\u001b[1m260/260\u001b[0m \u001b[32m━━━━━━━━━━━━━━━━━━━━\u001b[0m\u001b[37m\u001b[0m \u001b[1m1s\u001b[0m 3ms/step - accuracy: 0.9375 - loss: 0.0420 - val_accuracy: 0.8621 - val_loss: 0.0732\n",
            "Epoch 73/100\n",
            "\u001b[1m260/260\u001b[0m \u001b[32m━━━━━━━━━━━━━━━━━━━━\u001b[0m\u001b[37m\u001b[0m \u001b[1m182s\u001b[0m 689ms/step - accuracy: 0.9158 - loss: 0.0597 - val_accuracy: 0.2612 - val_loss: 1.3107\n",
            "Epoch 74/100\n",
            "\u001b[1m260/260\u001b[0m \u001b[32m━━━━━━━━━━━━━━━━━━━━\u001b[0m\u001b[37m\u001b[0m \u001b[1m5s\u001b[0m 19ms/step - accuracy: 0.7500 - loss: 0.1763 - val_accuracy: 0.1724 - val_loss: 1.3106\n",
            "Epoch 75/100\n",
            "\u001b[1m260/260\u001b[0m \u001b[32m━━━━━━━━━━━━━━━━━━━━\u001b[0m\u001b[37m\u001b[0m \u001b[1m192s\u001b[0m 723ms/step - accuracy: 0.8624 - loss: 0.0877 - val_accuracy: 0.8921 - val_loss: 0.1015\n",
            "Epoch 76/100\n",
            "\u001b[1m260/260\u001b[0m \u001b[32m━━━━━━━━━━━━━━━━━━━━\u001b[0m\u001b[37m\u001b[0m \u001b[1m0s\u001b[0m 1ms/step - accuracy: 1.0000 - loss: 0.0264 - val_accuracy: 0.9310 - val_loss: 0.0664\n",
            "Epoch 77/100\n",
            "\u001b[1m260/260\u001b[0m \u001b[32m━━━━━━━━━━━━━━━━━━━━\u001b[0m\u001b[37m\u001b[0m \u001b[1m192s\u001b[0m 684ms/step - accuracy: 0.9293 - loss: 0.0511 - val_accuracy: 0.4136 - val_loss: 0.8856\n",
            "Epoch 78/100\n",
            "\u001b[1m260/260\u001b[0m \u001b[32m━━━━━━━━━━━━━━━━━━━━\u001b[0m\u001b[37m\u001b[0m \u001b[1m0s\u001b[0m 1ms/step - accuracy: 0.8750 - loss: 0.0849 - val_accuracy: 0.3448 - val_loss: 1.2654\n",
            "Epoch 79/100\n",
            "\u001b[1m260/260\u001b[0m \u001b[32m━━━━━━━━━━━━━━━━━━━━\u001b[0m\u001b[37m\u001b[0m \u001b[1m203s\u001b[0m 694ms/step - accuracy: 0.9120 - loss: 0.0600 - val_accuracy: 0.8774 - val_loss: 0.0830\n",
            "Epoch 80/100\n",
            "\u001b[1m260/260\u001b[0m \u001b[32m━━━━━━━━━━━━━━━━━━━━\u001b[0m\u001b[37m\u001b[0m \u001b[1m6s\u001b[0m 24ms/step - accuracy: 0.9688 - loss: 0.0292 - val_accuracy: 0.8621 - val_loss: 0.0844\n",
            "Epoch 81/100\n",
            "\u001b[1m260/260\u001b[0m \u001b[32m━━━━━━━━━━━━━━━━━━━━\u001b[0m\u001b[37m\u001b[0m \u001b[1m191s\u001b[0m 722ms/step - accuracy: 0.9279 - loss: 0.0517 - val_accuracy: 0.8306 - val_loss: 0.2014\n",
            "Epoch 82/100\n",
            "\u001b[1m260/260\u001b[0m \u001b[32m━━━━━━━━━━━━━━━━━━━━\u001b[0m\u001b[37m\u001b[0m \u001b[1m3s\u001b[0m 11ms/step - accuracy: 0.9688 - loss: 0.0518 - val_accuracy: 0.8966 - val_loss: 0.0780\n",
            "Epoch 83/100\n",
            "\u001b[1m260/260\u001b[0m \u001b[32m━━━━━━━━━━━━━━━━━━━━\u001b[0m\u001b[37m\u001b[0m \u001b[1m194s\u001b[0m 702ms/step - accuracy: 0.9202 - loss: 0.0564 - val_accuracy: 0.8018 - val_loss: 0.1399\n",
            "Epoch 84/100\n",
            "\u001b[1m260/260\u001b[0m \u001b[32m━━━━━━━━━━━━━━━━━━━━\u001b[0m\u001b[37m\u001b[0m \u001b[1m0s\u001b[0m 1ms/step - accuracy: 0.9688 - loss: 0.0301 - val_accuracy: 0.7931 - val_loss: 0.1104\n",
            "Epoch 85/100\n",
            "\u001b[1m260/260\u001b[0m \u001b[32m━━━━━━━━━━━━━━━━━━━━\u001b[0m\u001b[37m\u001b[0m \u001b[1m181s\u001b[0m 683ms/step - accuracy: 0.9278 - loss: 0.0524 - val_accuracy: 0.9141 - val_loss: 0.0616\n",
            "Epoch 86/100\n",
            "\u001b[1m260/260\u001b[0m \u001b[32m━━━━━━━━━━━━━━━━━━━━\u001b[0m\u001b[37m\u001b[0m \u001b[1m8s\u001b[0m 29ms/step - accuracy: 0.9688 - loss: 0.0262 - val_accuracy: 0.9655 - val_loss: 0.0338\n",
            "Epoch 87/100\n",
            "\u001b[1m260/260\u001b[0m \u001b[32m━━━━━━━━━━━━━━━━━━━━\u001b[0m\u001b[37m\u001b[0m \u001b[1m182s\u001b[0m 688ms/step - accuracy: 0.9392 - loss: 0.0475 - val_accuracy: 0.6011 - val_loss: 0.3480\n",
            "Epoch 88/100\n",
            "\u001b[1m260/260\u001b[0m \u001b[32m━━━━━━━━━━━━━━━━━━━━\u001b[0m\u001b[37m\u001b[0m \u001b[1m0s\u001b[0m 1ms/step - accuracy: 0.8750 - loss: 0.0736 - val_accuracy: 0.4828 - val_loss: 0.4456\n",
            "Epoch 89/100\n",
            "\u001b[1m260/260\u001b[0m \u001b[32m━━━━━━━━━━━━━━━━━━━━\u001b[0m\u001b[37m\u001b[0m \u001b[1m203s\u001b[0m 691ms/step - accuracy: 0.9346 - loss: 0.0488 - val_accuracy: 0.7993 - val_loss: 0.1366\n",
            "Epoch 90/100\n",
            "\u001b[1m260/260\u001b[0m \u001b[32m━━━━━━━━━━━━━━━━━━━━\u001b[0m\u001b[37m\u001b[0m \u001b[1m1s\u001b[0m 1ms/step - accuracy: 0.9062 - loss: 0.0731 - val_accuracy: 0.8621 - val_loss: 0.1139\n",
            "Epoch 91/100\n",
            "\u001b[1m260/260\u001b[0m \u001b[32m━━━━━━━━━━━━━━━━━━━━\u001b[0m\u001b[37m\u001b[0m \u001b[1m217s\u001b[0m 749ms/step - accuracy: 0.9258 - loss: 0.0528 - val_accuracy: 0.8892 - val_loss: 0.0889\n",
            "Epoch 92/100\n",
            "\u001b[1m260/260\u001b[0m \u001b[32m━━━━━━━━━━━━━━━━━━━━\u001b[0m\u001b[37m\u001b[0m \u001b[1m1s\u001b[0m 2ms/step - accuracy: 0.9375 - loss: 0.0399 - val_accuracy: 0.8966 - val_loss: 0.0464\n",
            "Epoch 93/100\n",
            "\u001b[1m260/260\u001b[0m \u001b[32m━━━━━━━━━━━━━━━━━━━━\u001b[0m\u001b[37m\u001b[0m \u001b[1m187s\u001b[0m 705ms/step - accuracy: 0.9188 - loss: 0.0578 - val_accuracy: 0.8442 - val_loss: 0.1118\n",
            "Epoch 94/100\n",
            "\u001b[1m260/260\u001b[0m \u001b[32m━━━━━━━━━━━━━━━━━━━━\u001b[0m\u001b[37m\u001b[0m \u001b[1m0s\u001b[0m 1ms/step - accuracy: 0.8438 - loss: 0.1243 - val_accuracy: 0.6207 - val_loss: 0.2523\n",
            "Epoch 95/100\n",
            "\u001b[1m260/260\u001b[0m \u001b[32m━━━━━━━━━━━━━━━━━━━━\u001b[0m\u001b[37m\u001b[0m \u001b[1m192s\u001b[0m 728ms/step - accuracy: 0.9328 - loss: 0.0495 - val_accuracy: 0.8804 - val_loss: 0.0978\n",
            "Epoch 96/100\n",
            "\u001b[1m260/260\u001b[0m \u001b[32m━━━━━━━━━━━━━━━━━━━━\u001b[0m\u001b[37m\u001b[0m \u001b[1m1s\u001b[0m 2ms/step - accuracy: 0.9062 - loss: 0.0494 - val_accuracy: 0.9310 - val_loss: 0.0450\n",
            "Epoch 97/100\n",
            "\u001b[1m260/260\u001b[0m \u001b[32m━━━━━━━━━━━━━━━━━━━━\u001b[0m\u001b[37m\u001b[0m \u001b[1m194s\u001b[0m 733ms/step - accuracy: 0.9420 - loss: 0.0437 - val_accuracy: 0.8892 - val_loss: 0.0806\n",
            "Epoch 98/100\n",
            "\u001b[1m260/260\u001b[0m \u001b[32m━━━━━━━━━━━━━━━━━━━━\u001b[0m\u001b[37m\u001b[0m \u001b[1m4s\u001b[0m 14ms/step - accuracy: 0.9375 - loss: 0.0412 - val_accuracy: 1.0000 - val_loss: 0.3039\n",
            "Epoch 99/100\n",
            "\u001b[1m260/260\u001b[0m \u001b[32m━━━━━━━━━━━━━━━━━━━━\u001b[0m\u001b[37m\u001b[0m \u001b[1m198s\u001b[0m 732ms/step - accuracy: 0.9466 - loss: 0.0437 - val_accuracy: 0.8984 - val_loss: 0.1224\n",
            "Epoch 100/100\n",
            "\u001b[1m260/260\u001b[0m \u001b[32m━━━━━━━━━━━━━━━━━━━━\u001b[0m\u001b[37m\u001b[0m \u001b[1m1s\u001b[0m 2ms/step - accuracy: 0.9375 - loss: 0.0487 - val_accuracy: 1.0000 - val_loss: 0.0101\n",
            "CPU times: user 2h 50min 31s, sys: 1min 9s, total: 2h 51min 41s\n",
            "Wall time: 2h 42min 43s\n"
          ]
        }
      ],
      "source": [
        "%%time\n",
        "STEP_SIZE_TRAIN = train_generator.n//train_generator.batch_size\n",
        "STEP_SIZE_VALID = valid_generator.n//valid_generator.batch_size\n",
        "history = model.fit(train_generator,\n",
        "                    steps_per_epoch = STEP_SIZE_TRAIN,\n",
        "                    validation_data = valid_generator,\n",
        "                    validation_steps = STEP_SIZE_VALID,\n",
        "                    epochs=EPOCHS)"
      ]
    },
    {
      "cell_type": "code",
      "execution_count": 8,
      "id": "6710141f",
      "metadata": {
        "execution": {
          "iopub.execute_input": "2022-07-18T13:17:26.528857Z",
          "iopub.status.busy": "2022-07-18T13:17:26.528495Z",
          "iopub.status.idle": "2022-07-18T13:17:26.901191Z",
          "shell.execute_reply": "2022-07-18T13:17:26.900211Z"
        },
        "papermill": {
          "duration": 2.336208,
          "end_time": "2022-07-18T13:17:26.903870",
          "exception": false,
          "start_time": "2022-07-18T13:17:24.567662",
          "status": "completed"
        },
        "tags": [],
        "colab": {
          "base_uri": "https://localhost:8080/",
          "height": 922
        },
        "id": "6710141f",
        "outputId": "bb3def52-f369-447e-d03d-07d13afa7d66"
      },
      "outputs": [
        {
          "output_type": "display_data",
          "data": {
            "text/plain": [
              "<Figure size 640x480 with 1 Axes>"
            ],
            "image/png": "[encoded data removed]"
          },
          "metadata": {}
        },
        {
          "output_type": "display_data",
          "data": {
            "text/plain": [
              "<Figure size 640x480 with 1 Axes>"
            ],
            "image/png": "[encoded data removed]"
          },
          "metadata": {}
        },
        {
          "output_type": "stream",
          "name": "stdout",
          "text": [
            "CPU times: user 458 ms, sys: 178 ms, total: 636 ms\n",
            "Wall time: 491 ms\n"
          ]
        }
      ],
      "source": [
        "%%time\n",
        "acc = history.history['accuracy']\n",
        "val_acc = history.history['val_accuracy']\n",
        "loss = history.history['loss']\n",
        "val_loss = history.history['val_loss']\n",
        "epochs = range(1, len(acc) + 1)\n",
        "#Train and validation accuracy\n",
        "plt.plot(epochs, acc, 'b', label='Training accurarcy')\n",
        "plt.plot(epochs, val_acc, 'r', label='Validation accurarcy')\n",
        "plt.title('Training and Validation accurarcy')\n",
        "plt.legend()\n",
        "\n",
        "plt.figure()\n",
        "#Train and validation loss\n",
        "plt.plot(epochs, loss, 'b', label='Training loss')\n",
        "plt.plot(epochs, val_loss, 'r', label='Validation loss')\n",
        "plt.title('Training and Validation loss')\n",
        "plt.legend()\n",
        "plt.show()"
      ]
    },
    {
      "cell_type": "code",
      "execution_count": 9,
      "id": "c685f638",
      "metadata": {
        "execution": {
          "iopub.execute_input": "2022-07-18T13:17:31.259558Z",
          "iopub.status.busy": "2022-07-18T13:17:31.259127Z",
          "iopub.status.idle": "2022-07-18T13:18:11.743940Z",
          "shell.execute_reply": "2022-07-18T13:18:11.742894Z"
        },
        "papermill": {
          "duration": 42.743974,
          "end_time": "2022-07-18T13:18:11.746309",
          "exception": false,
          "start_time": "2022-07-18T13:17:29.002335",
          "status": "completed"
        },
        "tags": [],
        "colab": {
          "base_uri": "https://localhost:8080/"
        },
        "id": "c685f638",
        "outputId": "d8a306b8-c816-4e61-eef1-8e2f3c9b224f"
      },
      "outputs": [
        {
          "output_type": "stream",
          "name": "stdout",
          "text": [
            "\u001b[1m500/500\u001b[0m \u001b[32m━━━━━━━━━━━━━━━━━━━━\u001b[0m\u001b[37m\u001b[0m \u001b[1m4s\u001b[0m 6ms/step\n"
          ]
        }
      ],
      "source": [
        "STEP_SIZE_TEST=test_generator.n//test_generator.batch_size\n",
        "test_generator.reset()\n",
        "pred = model.predict(test_generator,\n",
        "                               steps=STEP_SIZE_TEST,\n",
        "                               verbose=1)"
      ]
    },
    {
      "cell_type": "code",
      "execution_count": 10,
      "id": "2f50a4c9",
      "metadata": {
        "execution": {
          "iopub.execute_input": "2022-07-18T13:18:16.228878Z",
          "iopub.status.busy": "2022-07-18T13:18:16.228534Z",
          "iopub.status.idle": "2022-07-18T13:18:39.701167Z",
          "shell.execute_reply": "2022-07-18T13:18:39.700281Z"
        },
        "papermill": {
          "duration": 25.857941,
          "end_time": "2022-07-18T13:18:39.704311",
          "exception": false,
          "start_time": "2022-07-18T13:18:13.846370",
          "status": "completed"
        },
        "tags": [],
        "colab": {
          "base_uri": "https://localhost:8080/"
        },
        "id": "2f50a4c9",
        "outputId": "94cd0257-5d45-4acb-f410-d1dba8b1822b"
      },
      "outputs": [
        {
          "output_type": "stream",
          "name": "stdout",
          "text": [
            "\u001b[1m500/500\u001b[0m \u001b[32m━━━━━━━━━━━━━━━━━━━━\u001b[0m\u001b[37m\u001b[0m \u001b[1m38s\u001b[0m 75ms/step - accuracy: 0.9026 - loss: 0.2179  \n",
            "0.9027443528175354 0.22487500309944153\n"
          ]
        }
      ],
      "source": [
        "loss, acc = model.evaluate(valid_generator, steps=STEP_SIZE_TEST, verbose=1)\n",
        "print(acc, loss)"
      ]
    },
    {
      "cell_type": "code",
      "execution_count": 11,
      "id": "f5971734",
      "metadata": {
        "execution": {
          "iopub.execute_input": "2022-07-18T13:18:43.863773Z",
          "iopub.status.busy": "2022-07-18T13:18:43.863409Z",
          "iopub.status.idle": "2022-07-18T13:18:43.881163Z",
          "shell.execute_reply": "2022-07-18T13:18:43.880256Z"
        },
        "papermill": {
          "duration": 2.156842,
          "end_time": "2022-07-18T13:18:43.883166",
          "exception": false,
          "start_time": "2022-07-18T13:18:41.726324",
          "status": "completed"
        },
        "tags": [],
        "colab": {
          "base_uri": "https://localhost:8080/",
          "height": 398
        },
        "id": "f5971734",
        "outputId": "aee149ec-5bc1-4330-9b8c-a03c93ca63b9"
      },
      "outputs": [
        {
          "output_type": "execute_result",
          "data": {
            "text/plain": [
              "8    1412\n",
              "3    1391\n",
              "7    1276\n",
              "5    1154\n",
              "9     871\n",
              "4     772\n",
              "6     496\n",
              "0     384\n",
              "1     304\n",
              "2     270\n",
              "Name: count, dtype: int64"
            ],
            "text/html": [
              "<div>\n",
              "<style scoped>\n",
              "    .dataframe tbody tr th:only-of-type {\n",
              "        vertical-align: middle;\n",
              "    }\n",
              "\n",
              "    .dataframe tbody tr th {\n",
              "        vertical-align: top;\n",
              "    }\n",
              "\n",
              "    .dataframe thead th {\n",
              "        text-align: right;\n",
              "    }\n",
              "</style>\n",
              "<table border=\"1\" class=\"dataframe\">\n",
              "  <thead>\n",
              "    <tr style=\"text-align: right;\">\n",
              "      <th></th>\n",
              "      <th>count</th>\n",
              "    </tr>\n",
              "  </thead>\n",
              "  <tbody>\n",
              "    <tr>\n",
              "      <th>8</th>\n",
              "      <td>1412</td>\n",
              "    </tr>\n",
              "    <tr>\n",
              "      <th>3</th>\n",
              "      <td>1391</td>\n",
              "    </tr>\n",
              "    <tr>\n",
              "      <th>7</th>\n",
              "      <td>1276</td>\n",
              "    </tr>\n",
              "    <tr>\n",
              "      <th>5</th>\n",
              "      <td>1154</td>\n",
              "    </tr>\n",
              "    <tr>\n",
              "      <th>9</th>\n",
              "      <td>871</td>\n",
              "    </tr>\n",
              "    <tr>\n",
              "      <th>4</th>\n",
              "      <td>772</td>\n",
              "    </tr>\n",
              "    <tr>\n",
              "      <th>6</th>\n",
              "      <td>496</td>\n",
              "    </tr>\n",
              "    <tr>\n",
              "      <th>0</th>\n",
              "      <td>384</td>\n",
              "    </tr>\n",
              "    <tr>\n",
              "      <th>1</th>\n",
              "      <td>304</td>\n",
              "    </tr>\n",
              "    <tr>\n",
              "      <th>2</th>\n",
              "      <td>270</td>\n",
              "    </tr>\n",
              "  </tbody>\n",
              "</table>\n",
              "</div><br><label><b>dtype:</b> int64</label>"
            ]
          },
          "metadata": {},
          "execution_count": 11
        }
      ],
      "source": [
        "pd.Series(train_generator.classes).value_counts()"
      ]
    },
    {
      "cell_type": "code",
      "execution_count": 12,
      "id": "14bf6a05",
      "metadata": {
        "execution": {
          "iopub.execute_input": "2022-07-18T13:18:48.270735Z",
          "iopub.status.busy": "2022-07-18T13:18:48.270180Z",
          "iopub.status.idle": "2022-07-18T13:18:48.282590Z",
          "shell.execute_reply": "2022-07-18T13:18:48.281659Z"
        },
        "papermill": {
          "duration": 2.236359,
          "end_time": "2022-07-18T13:18:48.285407",
          "exception": false,
          "start_time": "2022-07-18T13:18:46.049048",
          "status": "completed"
        },
        "tags": [],
        "colab": {
          "base_uri": "https://localhost:8080/",
          "height": 115
        },
        "id": "14bf6a05",
        "outputId": "935d3713-6517-426c-a080-4dff3a877b89"
      },
      "outputs": [
        {
          "output_type": "execute_result",
          "data": {
            "text/plain": [
              "0    500\n",
              "Name: count, dtype: int64"
            ],
            "text/html": [
              "<div>\n",
              "<style scoped>\n",
              "    .dataframe tbody tr th:only-of-type {\n",
              "        vertical-align: middle;\n",
              "    }\n",
              "\n",
              "    .dataframe tbody tr th {\n",
              "        vertical-align: top;\n",
              "    }\n",
              "\n",
              "    .dataframe thead th {\n",
              "        text-align: right;\n",
              "    }\n",
              "</style>\n",
              "<table border=\"1\" class=\"dataframe\">\n",
              "  <thead>\n",
              "    <tr style=\"text-align: right;\">\n",
              "      <th></th>\n",
              "      <th>count</th>\n",
              "    </tr>\n",
              "  </thead>\n",
              "  <tbody>\n",
              "    <tr>\n",
              "      <th>0</th>\n",
              "      <td>500</td>\n",
              "    </tr>\n",
              "  </tbody>\n",
              "</table>\n",
              "</div><br><label><b>dtype:</b> int64</label>"
            ]
          },
          "metadata": {},
          "execution_count": 12
        }
      ],
      "source": [
        "pd.Series(test_generator.classes).value_counts()"
      ]
    },
    {
      "cell_type": "code",
      "execution_count": 13,
      "id": "5e3234dd",
      "metadata": {
        "execution": {
          "iopub.execute_input": "2022-07-18T13:18:52.652563Z",
          "iopub.status.busy": "2022-07-18T13:18:52.651894Z",
          "iopub.status.idle": "2022-07-18T13:18:52.667395Z",
          "shell.execute_reply": "2022-07-18T13:18:52.666211Z"
        },
        "papermill": {
          "duration": 2.163467,
          "end_time": "2022-07-18T13:18:52.669590",
          "exception": false,
          "start_time": "2022-07-18T13:18:50.506123",
          "status": "completed"
        },
        "tags": [],
        "colab": {
          "base_uri": "https://localhost:8080/",
          "height": 398
        },
        "id": "5e3234dd",
        "outputId": "a5eb9ba9-81ed-4d47-d5ed-22d8bfe01c49"
      },
      "outputs": [
        {
          "output_type": "execute_result",
          "data": {
            "text/plain": [
              "normal                      53\n",
              "blast                       53\n",
              "bacterial_leaf_blight       52\n",
              "bacterial_panicle_blight    52\n",
              "brown_spot                  50\n",
              "hispa                       50\n",
              "bacterial_leaf_streak       49\n",
              "tungro                      49\n",
              "dead_heart                  46\n",
              "downy_mildew                46\n",
              "Name: count, dtype: int64"
            ],
            "text/html": [
              "<div>\n",
              "<style scoped>\n",
              "    .dataframe tbody tr th:only-of-type {\n",
              "        vertical-align: middle;\n",
              "    }\n",
              "\n",
              "    .dataframe tbody tr th {\n",
              "        vertical-align: top;\n",
              "    }\n",
              "\n",
              "    .dataframe thead th {\n",
              "        text-align: right;\n",
              "    }\n",
              "</style>\n",
              "<table border=\"1\" class=\"dataframe\">\n",
              "  <thead>\n",
              "    <tr style=\"text-align: right;\">\n",
              "      <th></th>\n",
              "      <th>count</th>\n",
              "    </tr>\n",
              "  </thead>\n",
              "  <tbody>\n",
              "    <tr>\n",
              "      <th>normal</th>\n",
              "      <td>53</td>\n",
              "    </tr>\n",
              "    <tr>\n",
              "      <th>blast</th>\n",
              "      <td>53</td>\n",
              "    </tr>\n",
              "    <tr>\n",
              "      <th>bacterial_leaf_blight</th>\n",
              "      <td>52</td>\n",
              "    </tr>\n",
              "    <tr>\n",
              "      <th>bacterial_panicle_blight</th>\n",
              "      <td>52</td>\n",
              "    </tr>\n",
              "    <tr>\n",
              "      <th>brown_spot</th>\n",
              "      <td>50</td>\n",
              "    </tr>\n",
              "    <tr>\n",
              "      <th>hispa</th>\n",
              "      <td>50</td>\n",
              "    </tr>\n",
              "    <tr>\n",
              "      <th>bacterial_leaf_streak</th>\n",
              "      <td>49</td>\n",
              "    </tr>\n",
              "    <tr>\n",
              "      <th>tungro</th>\n",
              "      <td>49</td>\n",
              "    </tr>\n",
              "    <tr>\n",
              "      <th>dead_heart</th>\n",
              "      <td>46</td>\n",
              "    </tr>\n",
              "    <tr>\n",
              "      <th>downy_mildew</th>\n",
              "      <td>46</td>\n",
              "    </tr>\n",
              "  </tbody>\n",
              "</table>\n",
              "</div><br><label><b>dtype:</b> int64</label>"
            ]
          },
          "metadata": {},
          "execution_count": 13
        }
      ],
      "source": [
        "predicted_class_indices=np.argmax(pred,axis=1)\n",
        "labels = (train_generator.class_indices)\n",
        "\n",
        "labels = (train_generator.class_indices)\n",
        "labels = dict((v,k) for k,v in labels.items())\n",
        "predictions = [labels[k] for k in predicted_class_indices]\n",
        "\n",
        "pd.Series(predictions).value_counts()"
      ]
    },
    {
      "cell_type": "code",
      "execution_count": 14,
      "id": "20b2221d",
      "metadata": {
        "execution": {
          "iopub.execute_input": "2022-07-18T13:18:57.606603Z",
          "iopub.status.busy": "2022-07-18T13:18:57.606260Z",
          "iopub.status.idle": "2022-07-18T13:18:57.639060Z",
          "shell.execute_reply": "2022-07-18T13:18:57.637507Z"
        },
        "papermill": {
          "duration": 2.221415,
          "end_time": "2022-07-18T13:18:57.641314",
          "exception": false,
          "start_time": "2022-07-18T13:18:55.419899",
          "status": "completed"
        },
        "tags": [],
        "colab": {
          "base_uri": "https://localhost:8080/",
          "height": 206
        },
        "id": "20b2221d",
        "outputId": "c066ca78-d5a9-46a4-b673-8e75226d3201"
      },
      "outputs": [
        {
          "output_type": "execute_result",
          "data": {
            "text/plain": [
              "                           image_id                  label\n",
              "0  bacterial_leaf_blight/100582.jpg  bacterial_leaf_blight\n",
              "1  bacterial_leaf_blight/100681.jpg  bacterial_leaf_blight\n",
              "2  bacterial_leaf_blight/100956.jpg  bacterial_leaf_blight\n",
              "3  bacterial_leaf_blight/101394.jpg  bacterial_leaf_blight\n",
              "4  bacterial_leaf_blight/101485.jpg  bacterial_leaf_blight"
            ],
            "text/html": [
              "\n",
              "  <div id=\"df-3fdb17b2-ba1b-4f37-8a1c-72f8cf4f5f94\" class=\"colab-df-container\">\n",
              "    <div>\n",
              "<style scoped>\n",
              "    .dataframe tbody tr th:only-of-type {\n",
              "        vertical-align: middle;\n",
              "    }\n",
              "\n",
              "    .dataframe tbody tr th {\n",
              "        vertical-align: top;\n",
              "    }\n",
              "\n",
              "    .dataframe thead th {\n",
              "        text-align: right;\n",
              "    }\n",
              "</style>\n",
              "<table border=\"1\" class=\"dataframe\">\n",
              "  <thead>\n",
              "    <tr style=\"text-align: right;\">\n",
              "      <th></th>\n",
              "      <th>image_id</th>\n",
              "      <th>label</th>\n",
              "    </tr>\n",
              "  </thead>\n",
              "  <tbody>\n",
              "    <tr>\n",
              "      <th>0</th>\n",
              "      <td>bacterial_leaf_blight/100582.jpg</td>\n",
              "      <td>bacterial_leaf_blight</td>\n",
              "    </tr>\n",
              "    <tr>\n",
              "      <th>1</th>\n",
              "      <td>bacterial_leaf_blight/100681.jpg</td>\n",
              "      <td>bacterial_leaf_blight</td>\n",
              "    </tr>\n",
              "    <tr>\n",
              "      <th>2</th>\n",
              "      <td>bacterial_leaf_blight/100956.jpg</td>\n",
              "      <td>bacterial_leaf_blight</td>\n",
              "    </tr>\n",
              "    <tr>\n",
              "      <th>3</th>\n",
              "      <td>bacterial_leaf_blight/101394.jpg</td>\n",
              "      <td>bacterial_leaf_blight</td>\n",
              "    </tr>\n",
              "    <tr>\n",
              "      <th>4</th>\n",
              "      <td>bacterial_leaf_blight/101485.jpg</td>\n",
              "      <td>bacterial_leaf_blight</td>\n",
              "    </tr>\n",
              "  </tbody>\n",
              "</table>\n",
              "</div>\n",
              "    <div class=\"colab-df-buttons\">\n",
              "\n",
              "  <div class=\"colab-df-container\">\n",
              "    <button class=\"colab-df-convert\" onclick=\"convertToInteractive('df-3fdb17b2-ba1b-4f37-8a1c-72f8cf4f5f94')\"\n",
              "            title=\"Convert this dataframe to an interactive table.\"\n",
              "            style=\"display:none;\">\n",
              "\n",
              "  <svg xmlns=\"http://www.w3.org/2000/svg\" height=\"24px\" viewBox=\"0 -960 960 960\">\n",
              "    <path d=\"M120-120v-720h720v720H120Zm60-500h600v-160H180v160Zm220 220h160v-160H400v160Zm0 220h160v-160H400v160ZM180-400h160v-160H180v160Zm440 0h160v-160H620v160ZM180-180h160v-160H180v160Zm440 0h160v-160H620v160Z\"/>\n",
              "  </svg>\n",
              "    </button>\n",
              "\n",
              "  <style>\n",
              "    .colab-df-container {\n",
              "      display:flex;\n",
              "      gap: 12px;\n",
              "    }\n",
              "\n",
              "    .colab-df-convert {\n",
              "      background-color: #E8F0FE;\n",
              "      border: none;\n",
              "      border-radius: 50%;\n",
              "      cursor: pointer;\n",
              "      display: none;\n",
              "      fill: #1967D2;\n",
              "      height: 32px;\n",
              "      padding: 0 0 0 0;\n",
              "      width: 32px;\n",
              "    }\n",
              "\n",
              "    .colab-df-convert:hover {\n",
              "      background-color: #E2EBFA;\n",
              "      box-shadow: 0px 1px 2px rgba(60, 64, 67, 0.3), 0px 1px 3px 1px rgba(60, 64, 67, 0.15);\n",
              "      fill: #174EA6;\n",
              "    }\n",
              "\n",
              "    .colab-df-buttons div {\n",
              "      margin-bottom: 4px;\n",
              "    }\n",
              "\n",
              "    [theme=dark] .colab-df-convert {\n",
              "      background-color: #3B4455;\n",
              "      fill: #D2E3FC;\n",
              "    }\n",
              "\n",
              "    [theme=dark] .colab-df-convert:hover {\n",
              "      background-color: #434B5C;\n",
              "      box-shadow: 0px 1px 3px 1px rgba(0, 0, 0, 0.15);\n",
              "      filter: drop-shadow(0px 1px 2px rgba(0, 0, 0, 0.3));\n",
              "      fill: #FFFFFF;\n",
              "    }\n",
              "  </style>\n",
              "\n",
              "    <script>\n",
              "      const buttonEl =\n",
              "        document.querySelector('#df-3fdb17b2-ba1b-4f37-8a1c-72f8cf4f5f94 button.colab-df-convert');\n",
              "      buttonEl.style.display =\n",
              "        google.colab.kernel.accessAllowed ? 'block' : 'none';\n",
              "\n",
              "      async function convertToInteractive(key) {\n",
              "        const element = document.querySelector('#df-3fdb17b2-ba1b-4f37-8a1c-72f8cf4f5f94');\n",
              "        const dataTable =\n",
              "          await google.colab.kernel.invokeFunction('convertToInteractive',\n",
              "                                                    [key], {});\n",
              "        if (!dataTable) return;\n",
              "\n",
              "        const docLinkHtml = 'Like what you see? Visit the ' +\n",
              "          '<a target=\"_blank\" href=https://colab.research.google.com/notebooks/data_table.ipynb>data table notebook</a>'\n",
              "          + ' to learn more about interactive tables.';\n",
              "        element.innerHTML = '';\n",
              "        dataTable['output_type'] = 'display_data';\n",
              "        await google.colab.output.renderOutput(dataTable, element);\n",
              "        const docLink = document.createElement('div');\n",
              "        docLink.innerHTML = docLinkHtml;\n",
              "        element.appendChild(docLink);\n",
              "      }\n",
              "    </script>\n",
              "  </div>\n",
              "\n",
              "\n",
              "<div id=\"df-5804cea0-f34e-4ec9-a6e9-0ced49a55bbb\">\n",
              "  <button class=\"colab-df-quickchart\" onclick=\"quickchart('df-5804cea0-f34e-4ec9-a6e9-0ced49a55bbb')\"\n",
              "            title=\"Suggest charts\"\n",
              "            style=\"display:none;\">\n",
              "\n",
              "<svg xmlns=\"http://www.w3.org/2000/svg\" height=\"24px\"viewBox=\"0 0 24 24\"\n",
              "     width=\"24px\">\n",
              "    <g>\n",
              "        <path d=\"M19 3H5c-1.1 0-2 .9-2 2v14c0 1.1.9 2 2 2h14c1.1 0 2-.9 2-2V5c0-1.1-.9-2-2-2zM9 17H7v-7h2v7zm4 0h-2V7h2v10zm4 0h-2v-4h2v4z\"/>\n",
              "    </g>\n",
              "</svg>\n",
              "  </button>\n",
              "\n",
              "<style>\n",
              "  .colab-df-quickchart {\n",
              "      --bg-color: #E8F0FE;\n",
              "      --fill-color: #1967D2;\n",
              "      --hover-bg-color: #E2EBFA;\n",
              "      --hover-fill-color: #174EA6;\n",
              "      --disabled-fill-color: #AAA;\n",
              "      --disabled-bg-color: #DDD;\n",
              "  }\n",
              "\n",
              "  [theme=dark] .colab-df-quickchart {\n",
              "      --bg-color: #3B4455;\n",
              "      --fill-color: #D2E3FC;\n",
              "      --hover-bg-color: #434B5C;\n",
              "      --hover-fill-color: #FFFFFF;\n",
              "      --disabled-bg-color: #3B4455;\n",
              "      --disabled-fill-color: #666;\n",
              "  }\n",
              "\n",
              "  .colab-df-quickchart {\n",
              "    background-color: var(--bg-color);\n",
              "    border: none;\n",
              "    border-radius: 50%;\n",
              "    cursor: pointer;\n",
              "    display: none;\n",
              "    fill: var(--fill-color);\n",
              "    height: 32px;\n",
              "    padding: 0;\n",
              "    width: 32px;\n",
              "  }\n",
              "\n",
              "  .colab-df-quickchart:hover {\n",
              "    background-color: var(--hover-bg-color);\n",
              "    box-shadow: 0 1px 2px rgba(60, 64, 67, 0.3), 0 1px 3px 1px rgba(60, 64, 67, 0.15);\n",
              "    fill: var(--button-hover-fill-color);\n",
              "  }\n",
              "\n",
              "  .colab-df-quickchart-complete:disabled,\n",
              "  .colab-df-quickchart-complete:disabled:hover {\n",
              "    background-color: var(--disabled-bg-color);\n",
              "    fill: var(--disabled-fill-color);\n",
              "    box-shadow: none;\n",
              "  }\n",
              "\n",
              "  .colab-df-spinner {\n",
              "    border: 2px solid var(--fill-color);\n",
              "    border-color: transparent;\n",
              "    border-bottom-color: var(--fill-color);\n",
              "    animation:\n",
              "      spin 1s steps(1) infinite;\n",
              "  }\n",
              "\n",
              "  @keyframes spin {\n",
              "    0% {\n",
              "      border-color: transparent;\n",
              "      border-bottom-color: var(--fill-color);\n",
              "      border-left-color: var(--fill-color);\n",
              "    }\n",
              "    20% {\n",
              "      border-color: transparent;\n",
              "      border-left-color: var(--fill-color);\n",
              "      border-top-color: var(--fill-color);\n",
              "    }\n",
              "    30% {\n",
              "      border-color: transparent;\n",
              "      border-left-color: var(--fill-color);\n",
              "      border-top-color: var(--fill-color);\n",
              "      border-right-color: var(--fill-color);\n",
              "    }\n",
              "    40% {\n",
              "      border-color: transparent;\n",
              "      border-right-color: var(--fill-color);\n",
              "      border-top-color: var(--fill-color);\n",
              "    }\n",
              "    60% {\n",
              "      border-color: transparent;\n",
              "      border-right-color: var(--fill-color);\n",
              "    }\n",
              "    80% {\n",
              "      border-color: transparent;\n",
              "      border-right-color: var(--fill-color);\n",
              "      border-bottom-color: var(--fill-color);\n",
              "    }\n",
              "    90% {\n",
              "      border-color: transparent;\n",
              "      border-bottom-color: var(--fill-color);\n",
              "    }\n",
              "  }\n",
              "</style>\n",
              "\n",
              "  <script>\n",
              "    async function quickchart(key) {\n",
              "      const quickchartButtonEl =\n",
              "        document.querySelector('#' + key + ' button');\n",
              "      quickchartButtonEl.disabled = true;  // To prevent multiple clicks.\n",
              "      quickchartButtonEl.classList.add('colab-df-spinner');\n",
              "      try {\n",
              "        const charts = await google.colab.kernel.invokeFunction(\n",
              "            'suggestCharts', [key], {});\n",
              "      } catch (error) {\n",
              "        console.error('Error during call to suggestCharts:', error);\n",
              "      }\n",
              "      quickchartButtonEl.classList.remove('colab-df-spinner');\n",
              "      quickchartButtonEl.classList.add('colab-df-quickchart-complete');\n",
              "    }\n",
              "    (() => {\n",
              "      let quickchartButtonEl =\n",
              "        document.querySelector('#df-5804cea0-f34e-4ec9-a6e9-0ced49a55bbb button');\n",
              "      quickchartButtonEl.style.display =\n",
              "        google.colab.kernel.accessAllowed ? 'block' : 'none';\n",
              "    })();\n",
              "  </script>\n",
              "</div>\n",
              "\n",
              "    </div>\n",
              "  </div>\n"
            ],
            "application/vnd.google.colaboratory.intrinsic+json": {
              "type": "dataframe",
              "variable_name": "results",
              "summary": "{\n  \"name\": \"results\",\n  \"rows\": 500,\n  \"fields\": [\n    {\n      \"column\": \"image_id\",\n      \"properties\": {\n        \"dtype\": \"string\",\n        \"num_unique_values\": 500,\n        \"samples\": [\n          \"hispa/102708.jpg\",\n          \"bacterial_leaf_streak/104402.jpg\",\n          \"hispa/106765.jpg\"\n        ],\n        \"semantic_type\": \"\",\n        \"description\": \"\"\n      }\n    },\n    {\n      \"column\": \"label\",\n      \"properties\": {\n        \"dtype\": \"category\",\n        \"num_unique_values\": 10,\n        \"samples\": [\n          \"downy_mildew\",\n          \"bacterial_leaf_streak\",\n          \"brown_spot\"\n        ],\n        \"semantic_type\": \"\",\n        \"description\": \"\"\n      }\n    }\n  ]\n}"
            }
          },
          "metadata": {},
          "execution_count": 14
        }
      ],
      "source": [
        "filenames=test_generator.filenames\n",
        "\n",
        "results=pd.DataFrame({\"image_id\":filenames,\n",
        "                      \"label\":predictions})\n",
        "results.image_id = results.image_id.str.replace('./', '')\n",
        "results.to_csv(\"submission.csv\",index=False)\n",
        "results.head()"
      ]
    },
    {
      "cell_type": "code",
      "source": [],
      "metadata": {
        "id": "57uMZ_essuB7"
      },
      "id": "57uMZ_essuB7",
      "execution_count": 14,
      "outputs": []
    }
  ],
  "metadata": {
    "kernelspec": {
      "display_name": "Python 3",
      "name": "python3"
    },
    "language_info": {
      "codemirror_mode": {
        "name": "ipython",
        "version": 3
      },
      "file_extension": ".py",
      "mimetype": "text/x-python",
      "name": "python",
      "nbconvert_exporter": "python",
      "pygments_lexer": "ipython3",
      "version": "3.7.12"
    },
    "papermill": {
      "default_parameters": {},
      "duration": 25371.762311,
      "end_time": "2022-07-18T13:19:03.548868",
      "environment_variables": {},
      "exception": null,
      "input_path": "__notebook__.ipynb",
      "output_path": "__notebook__.ipynb",
      "parameters": {},
      "start_time": "2022-07-18T06:16:11.786557",
      "version": "2.3.4"
    },
    "colab": {
      "provenance": [],
      "gpuType": "T4"
    },
    "accelerator": "GPU"
  },
  "nbformat": 4,
  "nbformat_minor": 5
}